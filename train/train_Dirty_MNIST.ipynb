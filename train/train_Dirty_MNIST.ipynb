{
  "nbformat": 4,
  "nbformat_minor": 0,
  "metadata": {
    "colab": {
      "provenance": []
    },
    "kernelspec": {
      "name": "python3",
      "display_name": "Python 3"
    },
    "language_info": {
      "name": "python"
    }
  },
  "cells": [
    {
      "cell_type": "markdown",
      "source": [
        "# Dirty-MNIST"
      ],
      "metadata": {
        "id": "pcsXDCdPopeU"
      }
    },
    {
      "cell_type": "markdown",
      "source": [
        "## Baseline: Evaluate entropy, margin sampling, and BALD acquisition using Dirty\u0002MNIST’s training set as pool set and evaluate on Dirty-MNIST’s test set. Compare their performance over 10 trials, plotting learning curves with confidence intervals."
      ],
      "metadata": {
        "id": "za2WX4L8ouFD"
      }
    },
    {
      "cell_type": "code",
      "source": [
        "_,train_loader_dirty_mnist, _, test_loader_dirty_mnist, _ =  get_data_loaders(batch_size=64, eval_batch_size=1024, device=device)\n",
        "# Assuming train_loader_dirty_mnist is already defined and contains the dataset\n",
        "full_train_dataset = train_loader_dirty_mnist.dataset\n",
        "\n",
        "# Extract the data and labels\n",
        "data = []\n",
        "labels = []\n",
        "for sample, label in full_train_dataset:\n",
        "    data.append(sample)\n",
        "    labels.append(label)\n",
        "data = torch.stack(data)  # Combine all tensors into a single tensor\n",
        "labels = torch.tensor(labels)  # Convert list of labels to a tensor\n",
        "\n",
        "# random acquisition\n",
        "labels = labels.numpy()  # Convert labels to a numpy array\n",
        "train_idx = np.arange(len(full_train_dataset))  # Create Training Examples indices\n",
        "\n",
        "# Create a pool of all labeled examples by their indices\n",
        "unlabeled_pool = [train_idx[labels == c] for c in range(10)]  # Group indices by class"
      ],
      "metadata": {
        "id": "XOPoilM1om3p"
      },
      "execution_count": null,
      "outputs": []
    },
    {
      "cell_type": "code",
      "source": [
        "# unlabeled_pool[0].shape"
      ],
      "metadata": {
        "id": "joVH5z5NEAhX"
      },
      "execution_count": null,
      "outputs": []
    },
    {
      "cell_type": "markdown",
      "source": [
        "#### Evaluate entropy"
      ],
      "metadata": {
        "id": "mC4ElJ0AyxJS"
      }
    },
    {
      "cell_type": "code",
      "source": [
        "def entropy_sampling(model , labeled_indices, unlabeled_pool, full_train_dataset , k):\n",
        "  sampled_indices = labeled_indices\n",
        "\n",
        "  for cls,mini_pool in enumerate(unlabeled_pool):\n",
        "    subset = Subset(full_train_dataset, indices=mini_pool)\n",
        "    subset_loader = DataLoader(subset,batch_size=1024 ,shuffle=False)\n",
        "\n",
        "    log_probs = mc_dropout(model, subset_loader, n =32)\n",
        "    uncertainties = compute_uncertainties(log_probs)\n",
        "\n",
        "    predictive_uncertainty = uncertainties[1]\n",
        "\n",
        "    top_k_min_indices = np.argsort(np.array(predictive_uncertainty.cpu()))[:k]\n",
        "    indices_to_remove = np.array(mini_pool)[top_k_min_indices]\n",
        "    sampled_indices = np.concatenate((sampled_indices, indices_to_remove))\n",
        "    unlabeled_pool[cls] = np.setdiff1d(mini_pool, indices_to_remove)\n",
        "\n",
        "  return sampled_indices , unlabeled_pool"
      ],
      "metadata": {
        "id": "LBrijGeEzhFZ"
      },
      "execution_count": null,
      "outputs": []
    },
    {
      "cell_type": "code",
      "source": [
        "unlabeled_pool = [train_idx[labels == c] for c in range(10)]\n",
        "\n",
        "#  Trianning by increasing data points\n",
        "labeled_per_class = [1,2, 4, 8, 16, 32 , 64 , 128]\n",
        "\n",
        "# get the 20 data points\n",
        "initial_subset = select_k(1)\n",
        "# initialized labeled data\n",
        "labeled_pool =  initial_subset\n",
        "entropy_TRAIN_ACCURACIES = []\n",
        "entropy_TEST_ACCURACIES = []\n",
        "\n",
        "for samples in labeled_per_class :\n",
        "  seed = 42 + len(labeled_pool)\n",
        "\n",
        "  train_trial_result = [];  test_trial_result = []\n",
        "  epochs = get_epoch(labeled_pool)\n",
        "\n",
        "  for trial in range(10):\n",
        "    np.random.seed(seed) ;  torch.manual_seed(seed)\n",
        "\n",
        "    model, optimizer = create_model_optimizer(seed+trial)\n",
        "    #  get accuracies\n",
        "    model, train_acc = train_labeled(model,optimizer, labeled_pool , full_train_dataset, epochs, trial)\n",
        "    test_accuracy = eval_model(model , test_loader_dirty_mnist)\n",
        "    # track metrics\n",
        "    train_trial_result.append(train_acc)\n",
        "    test_trial_result.append(test_accuracy)\n",
        "  entropy_TRAIN_ACCURACIES.append((len(labeled_pool) ,train_trial_result ))\n",
        "  entropy_TEST_ACCURACIES.append((len(labeled_pool),test_trial_result))\n",
        "\n",
        "# select one sampel for each class, total k = 10\n",
        "\n",
        "\n",
        "  # update the labeled indices\n",
        "  labeled_pool,unlabeled_pool=  entropy_sampling(model,labeled_pool, unlabeled_pool, full_train_dataset , samples)\n",
        "\n",
        "\n",
        "\n",
        "  print(f\" Training acc : {train_acc:.1f} % | Test acc : {test_accuracy:.1f} %\" )"
      ],
      "metadata": {
        "colab": {
          "base_uri": "https://localhost:8080/"
        },
        "outputId": "b408fb58-038e-426c-c5a4-a5c881430a34",
        "collapsed": true,
        "id": "FAgV5XI7y_G5"
      },
      "execution_count": null,
      "outputs": [
        {
          "output_type": "stream",
          "name": "stdout",
          "text": [
            "training Model for 200 Epochs, with 10 Labeled Data , Trial NO. 0\n"
          ]
        },
        {
          "output_type": "stream",
          "name": "stderr",
          "text": [
            "Predicting with MC Dropout Ensembles: 100%|██████████| 69/69 [00:12<00:00,  5.45it/s]\n"
          ]
        },
        {
          "output_type": "stream",
          "name": "stdout",
          "text": [
            "training Model for 200 Epochs, with 10 Labeled Data , Trial NO. 1\n"
          ]
        },
        {
          "output_type": "stream",
          "name": "stderr",
          "text": [
            "Predicting with MC Dropout Ensembles: 100%|██████████| 69/69 [00:12<00:00,  5.43it/s]\n"
          ]
        },
        {
          "output_type": "stream",
          "name": "stdout",
          "text": [
            "training Model for 200 Epochs, with 10 Labeled Data , Trial NO. 2\n"
          ]
        },
        {
          "output_type": "stream",
          "name": "stderr",
          "text": [
            "Predicting with MC Dropout Ensembles: 100%|██████████| 69/69 [00:12<00:00,  5.46it/s]\n"
          ]
        },
        {
          "output_type": "stream",
          "name": "stdout",
          "text": [
            "training Model for 200 Epochs, with 10 Labeled Data , Trial NO. 3\n"
          ]
        },
        {
          "output_type": "stream",
          "name": "stderr",
          "text": [
            "Predicting with MC Dropout Ensembles: 100%|██████████| 69/69 [00:12<00:00,  5.51it/s]\n"
          ]
        },
        {
          "output_type": "stream",
          "name": "stdout",
          "text": [
            "training Model for 200 Epochs, with 10 Labeled Data , Trial NO. 4\n"
          ]
        },
        {
          "output_type": "stream",
          "name": "stderr",
          "text": [
            "Predicting with MC Dropout Ensembles: 100%|██████████| 69/69 [00:12<00:00,  5.53it/s]\n"
          ]
        },
        {
          "output_type": "stream",
          "name": "stdout",
          "text": [
            "training Model for 200 Epochs, with 10 Labeled Data , Trial NO. 5\n"
          ]
        },
        {
          "output_type": "stream",
          "name": "stderr",
          "text": [
            "Predicting with MC Dropout Ensembles: 100%|██████████| 69/69 [00:12<00:00,  5.53it/s]\n"
          ]
        },
        {
          "output_type": "stream",
          "name": "stdout",
          "text": [
            "training Model for 200 Epochs, with 10 Labeled Data , Trial NO. 6\n"
          ]
        },
        {
          "output_type": "stream",
          "name": "stderr",
          "text": [
            "Predicting with MC Dropout Ensembles: 100%|██████████| 69/69 [00:12<00:00,  5.49it/s]\n"
          ]
        },
        {
          "output_type": "stream",
          "name": "stdout",
          "text": [
            "training Model for 200 Epochs, with 10 Labeled Data , Trial NO. 7\n"
          ]
        },
        {
          "output_type": "stream",
          "name": "stderr",
          "text": [
            "Predicting with MC Dropout Ensembles: 100%|██████████| 69/69 [00:12<00:00,  5.49it/s]\n"
          ]
        },
        {
          "output_type": "stream",
          "name": "stdout",
          "text": [
            "training Model for 200 Epochs, with 10 Labeled Data , Trial NO. 8\n"
          ]
        },
        {
          "output_type": "stream",
          "name": "stderr",
          "text": [
            "Predicting with MC Dropout Ensembles: 100%|██████████| 69/69 [00:12<00:00,  5.50it/s]\n"
          ]
        },
        {
          "output_type": "stream",
          "name": "stdout",
          "text": [
            "training Model for 200 Epochs, with 10 Labeled Data , Trial NO. 9\n"
          ]
        },
        {
          "output_type": "stream",
          "name": "stderr",
          "text": [
            "Predicting with MC Dropout Ensembles: 100%|██████████| 69/69 [00:12<00:00,  5.50it/s]\n",
            "Predicting with MC Dropout Ensembles: 100%|██████████| 9/9 [00:01<00:00,  6.27it/s]\n",
            "Predicting with MC Dropout Ensembles: 100%|██████████| 14/14 [00:02<00:00,  5.94it/s]\n",
            "Predicting with MC Dropout Ensembles: 100%|██████████| 11/11 [00:01<00:00,  6.11it/s]\n",
            "Predicting with MC Dropout Ensembles: 100%|██████████| 14/14 [00:02<00:00,  5.96it/s]\n",
            "Predicting with MC Dropout Ensembles: 100%|██████████| 10/10 [00:01<00:00,  6.18it/s]\n",
            "Predicting with MC Dropout Ensembles: 100%|██████████| 10/10 [00:01<00:00,  6.15it/s]\n",
            "Predicting with MC Dropout Ensembles: 100%|██████████| 10/10 [00:01<00:00,  6.16it/s]\n",
            "Predicting with MC Dropout Ensembles: 100%|██████████| 14/14 [00:02<00:00,  5.94it/s]\n",
            "Predicting with MC Dropout Ensembles: 100%|██████████| 15/15 [00:02<00:00,  5.90it/s]\n",
            "Predicting with MC Dropout Ensembles: 100%|██████████| 17/17 [00:02<00:00,  5.84it/s]\n"
          ]
        },
        {
          "output_type": "stream",
          "name": "stdout",
          "text": [
            " Training acc : 100.0 % | Test acc : 30.9 %\n",
            "training Model for 200 Epochs, with 20 Labeled Data , Trial NO. 0\n"
          ]
        },
        {
          "output_type": "stream",
          "name": "stderr",
          "text": [
            "Predicting with MC Dropout Ensembles: 100%|██████████| 69/69 [00:12<00:00,  5.51it/s]\n"
          ]
        },
        {
          "output_type": "stream",
          "name": "stdout",
          "text": [
            "training Model for 200 Epochs, with 20 Labeled Data , Trial NO. 1\n"
          ]
        },
        {
          "output_type": "stream",
          "name": "stderr",
          "text": [
            "Predicting with MC Dropout Ensembles: 100%|██████████| 69/69 [00:12<00:00,  5.51it/s]\n"
          ]
        },
        {
          "output_type": "stream",
          "name": "stdout",
          "text": [
            "training Model for 200 Epochs, with 20 Labeled Data , Trial NO. 2\n"
          ]
        },
        {
          "output_type": "stream",
          "name": "stderr",
          "text": [
            "Predicting with MC Dropout Ensembles: 100%|██████████| 69/69 [00:12<00:00,  5.51it/s]\n"
          ]
        },
        {
          "output_type": "stream",
          "name": "stdout",
          "text": [
            "training Model for 200 Epochs, with 20 Labeled Data , Trial NO. 3\n"
          ]
        },
        {
          "output_type": "stream",
          "name": "stderr",
          "text": [
            "Predicting with MC Dropout Ensembles: 100%|██████████| 69/69 [00:12<00:00,  5.50it/s]\n"
          ]
        },
        {
          "output_type": "stream",
          "name": "stdout",
          "text": [
            "training Model for 200 Epochs, with 20 Labeled Data , Trial NO. 4\n"
          ]
        },
        {
          "output_type": "stream",
          "name": "stderr",
          "text": [
            "Predicting with MC Dropout Ensembles: 100%|██████████| 69/69 [00:12<00:00,  5.51it/s]\n"
          ]
        },
        {
          "output_type": "stream",
          "name": "stdout",
          "text": [
            "training Model for 200 Epochs, with 20 Labeled Data , Trial NO. 5\n"
          ]
        },
        {
          "output_type": "stream",
          "name": "stderr",
          "text": [
            "Predicting with MC Dropout Ensembles: 100%|██████████| 69/69 [00:12<00:00,  5.50it/s]\n"
          ]
        },
        {
          "output_type": "stream",
          "name": "stdout",
          "text": [
            "training Model for 200 Epochs, with 20 Labeled Data , Trial NO. 6\n"
          ]
        },
        {
          "output_type": "stream",
          "name": "stderr",
          "text": [
            "Predicting with MC Dropout Ensembles: 100%|██████████| 69/69 [00:12<00:00,  5.51it/s]\n"
          ]
        },
        {
          "output_type": "stream",
          "name": "stdout",
          "text": [
            "training Model for 200 Epochs, with 20 Labeled Data , Trial NO. 7\n"
          ]
        },
        {
          "output_type": "stream",
          "name": "stderr",
          "text": [
            "Predicting with MC Dropout Ensembles: 100%|██████████| 69/69 [00:12<00:00,  5.50it/s]\n"
          ]
        },
        {
          "output_type": "stream",
          "name": "stdout",
          "text": [
            "training Model for 200 Epochs, with 20 Labeled Data , Trial NO. 8\n"
          ]
        },
        {
          "output_type": "stream",
          "name": "stderr",
          "text": [
            "Predicting with MC Dropout Ensembles: 100%|██████████| 69/69 [00:12<00:00,  5.51it/s]\n"
          ]
        },
        {
          "output_type": "stream",
          "name": "stdout",
          "text": [
            "training Model for 200 Epochs, with 20 Labeled Data , Trial NO. 9\n"
          ]
        },
        {
          "output_type": "stream",
          "name": "stderr",
          "text": [
            "Predicting with MC Dropout Ensembles: 100%|██████████| 69/69 [00:12<00:00,  5.51it/s]\n",
            "Predicting with MC Dropout Ensembles: 100%|██████████| 9/9 [00:01<00:00,  6.27it/s]\n",
            "Predicting with MC Dropout Ensembles: 100%|██████████| 14/14 [00:02<00:00,  5.94it/s]\n",
            "Predicting with MC Dropout Ensembles: 100%|██████████| 11/11 [00:01<00:00,  6.08it/s]\n",
            "Predicting with MC Dropout Ensembles: 100%|██████████| 14/14 [00:02<00:00,  5.94it/s]\n",
            "Predicting with MC Dropout Ensembles: 100%|██████████| 10/10 [00:01<00:00,  6.16it/s]\n",
            "Predicting with MC Dropout Ensembles: 100%|██████████| 10/10 [00:01<00:00,  6.16it/s]\n",
            "Predicting with MC Dropout Ensembles: 100%|██████████| 10/10 [00:01<00:00,  6.17it/s]\n",
            "Predicting with MC Dropout Ensembles: 100%|██████████| 14/14 [00:02<00:00,  5.93it/s]\n",
            "Predicting with MC Dropout Ensembles: 100%|██████████| 15/15 [00:02<00:00,  5.89it/s]\n",
            "Predicting with MC Dropout Ensembles: 100%|██████████| 17/17 [00:02<00:00,  5.83it/s]\n"
          ]
        },
        {
          "output_type": "stream",
          "name": "stdout",
          "text": [
            " Training acc : 95.0 % | Test acc : 38.2 %\n",
            "training Model for 200 Epochs, with 40 Labeled Data , Trial NO. 0\n"
          ]
        },
        {
          "output_type": "stream",
          "name": "stderr",
          "text": [
            "Predicting with MC Dropout Ensembles: 100%|██████████| 69/69 [00:12<00:00,  5.51it/s]\n"
          ]
        },
        {
          "output_type": "stream",
          "name": "stdout",
          "text": [
            "training Model for 200 Epochs, with 40 Labeled Data , Trial NO. 1\n"
          ]
        },
        {
          "output_type": "stream",
          "name": "stderr",
          "text": [
            "Predicting with MC Dropout Ensembles: 100%|██████████| 69/69 [00:12<00:00,  5.51it/s]\n"
          ]
        },
        {
          "output_type": "stream",
          "name": "stdout",
          "text": [
            "training Model for 200 Epochs, with 40 Labeled Data , Trial NO. 2\n"
          ]
        },
        {
          "output_type": "stream",
          "name": "stderr",
          "text": [
            "Predicting with MC Dropout Ensembles: 100%|██████████| 69/69 [00:12<00:00,  5.51it/s]\n"
          ]
        },
        {
          "output_type": "stream",
          "name": "stdout",
          "text": [
            "training Model for 200 Epochs, with 40 Labeled Data , Trial NO. 3\n"
          ]
        },
        {
          "output_type": "stream",
          "name": "stderr",
          "text": [
            "Predicting with MC Dropout Ensembles: 100%|██████████| 69/69 [00:12<00:00,  5.51it/s]\n"
          ]
        },
        {
          "output_type": "stream",
          "name": "stdout",
          "text": [
            "training Model for 200 Epochs, with 40 Labeled Data , Trial NO. 4\n"
          ]
        },
        {
          "output_type": "stream",
          "name": "stderr",
          "text": [
            "Predicting with MC Dropout Ensembles: 100%|██████████| 69/69 [00:12<00:00,  5.50it/s]\n"
          ]
        },
        {
          "output_type": "stream",
          "name": "stdout",
          "text": [
            "training Model for 200 Epochs, with 40 Labeled Data , Trial NO. 5\n"
          ]
        },
        {
          "output_type": "stream",
          "name": "stderr",
          "text": [
            "Predicting with MC Dropout Ensembles: 100%|██████████| 69/69 [00:12<00:00,  5.50it/s]\n"
          ]
        },
        {
          "output_type": "stream",
          "name": "stdout",
          "text": [
            "training Model for 200 Epochs, with 40 Labeled Data , Trial NO. 6\n"
          ]
        },
        {
          "output_type": "stream",
          "name": "stderr",
          "text": [
            "Predicting with MC Dropout Ensembles: 100%|██████████| 69/69 [00:12<00:00,  5.50it/s]\n"
          ]
        },
        {
          "output_type": "stream",
          "name": "stdout",
          "text": [
            "training Model for 200 Epochs, with 40 Labeled Data , Trial NO. 7\n"
          ]
        },
        {
          "output_type": "stream",
          "name": "stderr",
          "text": [
            "Predicting with MC Dropout Ensembles: 100%|██████████| 69/69 [00:12<00:00,  5.50it/s]\n"
          ]
        },
        {
          "output_type": "stream",
          "name": "stdout",
          "text": [
            "training Model for 200 Epochs, with 40 Labeled Data , Trial NO. 8\n"
          ]
        },
        {
          "output_type": "stream",
          "name": "stderr",
          "text": [
            "Predicting with MC Dropout Ensembles: 100%|██████████| 69/69 [00:12<00:00,  5.51it/s]\n"
          ]
        },
        {
          "output_type": "stream",
          "name": "stdout",
          "text": [
            "training Model for 200 Epochs, with 40 Labeled Data , Trial NO. 9\n"
          ]
        },
        {
          "output_type": "stream",
          "name": "stderr",
          "text": [
            "Predicting with MC Dropout Ensembles: 100%|██████████| 69/69 [00:12<00:00,  5.50it/s]\n",
            "Predicting with MC Dropout Ensembles: 100%|██████████| 9/9 [00:01<00:00,  6.25it/s]\n",
            "Predicting with MC Dropout Ensembles: 100%|██████████| 14/14 [00:02<00:00,  5.94it/s]\n",
            "Predicting with MC Dropout Ensembles: 100%|██████████| 11/11 [00:01<00:00,  6.11it/s]\n",
            "Predicting with MC Dropout Ensembles: 100%|██████████| 14/14 [00:02<00:00,  5.95it/s]\n",
            "Predicting with MC Dropout Ensembles: 100%|██████████| 10/10 [00:01<00:00,  6.18it/s]\n",
            "Predicting with MC Dropout Ensembles: 100%|██████████| 10/10 [00:01<00:00,  6.16it/s]\n",
            "Predicting with MC Dropout Ensembles: 100%|██████████| 10/10 [00:01<00:00,  6.12it/s]\n",
            "Predicting with MC Dropout Ensembles: 100%|██████████| 14/14 [00:02<00:00,  5.93it/s]\n",
            "Predicting with MC Dropout Ensembles: 100%|██████████| 15/15 [00:02<00:00,  5.89it/s]\n",
            "Predicting with MC Dropout Ensembles: 100%|██████████| 17/17 [00:02<00:00,  5.82it/s]\n"
          ]
        },
        {
          "output_type": "stream",
          "name": "stdout",
          "text": [
            " Training acc : 100.0 % | Test acc : 37.5 %\n",
            "training Model for 200 Epochs, with 80 Labeled Data , Trial NO. 0\n"
          ]
        },
        {
          "output_type": "stream",
          "name": "stderr",
          "text": [
            "Predicting with MC Dropout Ensembles: 100%|██████████| 69/69 [00:12<00:00,  5.51it/s]\n"
          ]
        },
        {
          "output_type": "stream",
          "name": "stdout",
          "text": [
            "training Model for 200 Epochs, with 80 Labeled Data , Trial NO. 1\n"
          ]
        },
        {
          "output_type": "stream",
          "name": "stderr",
          "text": [
            "Predicting with MC Dropout Ensembles: 100%|██████████| 69/69 [00:12<00:00,  5.51it/s]\n"
          ]
        },
        {
          "output_type": "stream",
          "name": "stdout",
          "text": [
            "training Model for 200 Epochs, with 80 Labeled Data , Trial NO. 2\n"
          ]
        },
        {
          "output_type": "stream",
          "name": "stderr",
          "text": [
            "Predicting with MC Dropout Ensembles: 100%|██████████| 69/69 [00:12<00:00,  5.51it/s]\n"
          ]
        },
        {
          "output_type": "stream",
          "name": "stdout",
          "text": [
            "training Model for 200 Epochs, with 80 Labeled Data , Trial NO. 3\n"
          ]
        },
        {
          "output_type": "stream",
          "name": "stderr",
          "text": [
            "Predicting with MC Dropout Ensembles: 100%|██████████| 69/69 [00:12<00:00,  5.50it/s]\n"
          ]
        },
        {
          "output_type": "stream",
          "name": "stdout",
          "text": [
            "training Model for 200 Epochs, with 80 Labeled Data , Trial NO. 4\n"
          ]
        },
        {
          "output_type": "stream",
          "name": "stderr",
          "text": [
            "Predicting with MC Dropout Ensembles: 100%|██████████| 69/69 [00:12<00:00,  5.49it/s]\n"
          ]
        },
        {
          "output_type": "stream",
          "name": "stdout",
          "text": [
            "training Model for 200 Epochs, with 80 Labeled Data , Trial NO. 5\n"
          ]
        },
        {
          "output_type": "stream",
          "name": "stderr",
          "text": [
            "Predicting with MC Dropout Ensembles: 100%|██████████| 69/69 [00:12<00:00,  5.51it/s]\n"
          ]
        },
        {
          "output_type": "stream",
          "name": "stdout",
          "text": [
            "training Model for 200 Epochs, with 80 Labeled Data , Trial NO. 6\n"
          ]
        },
        {
          "output_type": "stream",
          "name": "stderr",
          "text": [
            "Predicting with MC Dropout Ensembles: 100%|██████████| 69/69 [00:12<00:00,  5.51it/s]\n"
          ]
        },
        {
          "output_type": "stream",
          "name": "stdout",
          "text": [
            "training Model for 200 Epochs, with 80 Labeled Data , Trial NO. 7\n"
          ]
        },
        {
          "output_type": "stream",
          "name": "stderr",
          "text": [
            "Predicting with MC Dropout Ensembles: 100%|██████████| 69/69 [00:12<00:00,  5.50it/s]\n"
          ]
        },
        {
          "output_type": "stream",
          "name": "stdout",
          "text": [
            "training Model for 200 Epochs, with 80 Labeled Data , Trial NO. 8\n"
          ]
        },
        {
          "output_type": "stream",
          "name": "stderr",
          "text": [
            "Predicting with MC Dropout Ensembles: 100%|██████████| 69/69 [00:12<00:00,  5.49it/s]\n"
          ]
        },
        {
          "output_type": "stream",
          "name": "stdout",
          "text": [
            "training Model for 200 Epochs, with 80 Labeled Data , Trial NO. 9\n"
          ]
        },
        {
          "output_type": "stream",
          "name": "stderr",
          "text": [
            "Predicting with MC Dropout Ensembles: 100%|██████████| 69/69 [00:12<00:00,  5.50it/s]\n",
            "Predicting with MC Dropout Ensembles: 100%|██████████| 9/9 [00:01<00:00,  6.27it/s]\n",
            "Predicting with MC Dropout Ensembles: 100%|██████████| 14/14 [00:02<00:00,  5.94it/s]\n",
            "Predicting with MC Dropout Ensembles: 100%|██████████| 11/11 [00:01<00:00,  6.10it/s]\n",
            "Predicting with MC Dropout Ensembles: 100%|██████████| 14/14 [00:02<00:00,  5.96it/s]\n",
            "Predicting with MC Dropout Ensembles: 100%|██████████| 10/10 [00:01<00:00,  6.15it/s]\n",
            "Predicting with MC Dropout Ensembles: 100%|██████████| 10/10 [00:01<00:00,  6.16it/s]\n",
            "Predicting with MC Dropout Ensembles: 100%|██████████| 10/10 [00:01<00:00,  6.18it/s]\n",
            "Predicting with MC Dropout Ensembles: 100%|██████████| 14/14 [00:02<00:00,  5.93it/s]\n",
            "Predicting with MC Dropout Ensembles: 100%|██████████| 15/15 [00:02<00:00,  5.90it/s]\n",
            "Predicting with MC Dropout Ensembles: 100%|██████████| 17/17 [00:02<00:00,  5.82it/s]\n"
          ]
        },
        {
          "output_type": "stream",
          "name": "stdout",
          "text": [
            " Training acc : 98.8 % | Test acc : 36.0 %\n",
            "training Model for 100 Epochs, with 160 Labeled Data , Trial NO. 0\n"
          ]
        },
        {
          "output_type": "stream",
          "name": "stderr",
          "text": [
            "Predicting with MC Dropout Ensembles: 100%|██████████| 69/69 [00:12<00:00,  5.51it/s]\n"
          ]
        },
        {
          "output_type": "stream",
          "name": "stdout",
          "text": [
            "training Model for 100 Epochs, with 160 Labeled Data , Trial NO. 1\n"
          ]
        },
        {
          "output_type": "stream",
          "name": "stderr",
          "text": [
            "Predicting with MC Dropout Ensembles: 100%|██████████| 69/69 [00:12<00:00,  5.51it/s]\n"
          ]
        },
        {
          "output_type": "stream",
          "name": "stdout",
          "text": [
            "training Model for 100 Epochs, with 160 Labeled Data , Trial NO. 2\n"
          ]
        },
        {
          "output_type": "stream",
          "name": "stderr",
          "text": [
            "Predicting with MC Dropout Ensembles: 100%|██████████| 69/69 [00:12<00:00,  5.51it/s]\n"
          ]
        },
        {
          "output_type": "stream",
          "name": "stdout",
          "text": [
            "training Model for 100 Epochs, with 160 Labeled Data , Trial NO. 3\n"
          ]
        },
        {
          "output_type": "stream",
          "name": "stderr",
          "text": [
            "Predicting with MC Dropout Ensembles: 100%|██████████| 69/69 [00:12<00:00,  5.50it/s]\n"
          ]
        },
        {
          "output_type": "stream",
          "name": "stdout",
          "text": [
            "training Model for 100 Epochs, with 160 Labeled Data , Trial NO. 4\n"
          ]
        },
        {
          "output_type": "stream",
          "name": "stderr",
          "text": [
            "Predicting with MC Dropout Ensembles: 100%|██████████| 69/69 [00:12<00:00,  5.50it/s]\n"
          ]
        },
        {
          "output_type": "stream",
          "name": "stdout",
          "text": [
            "training Model for 100 Epochs, with 160 Labeled Data , Trial NO. 5\n"
          ]
        },
        {
          "output_type": "stream",
          "name": "stderr",
          "text": [
            "Predicting with MC Dropout Ensembles: 100%|██████████| 69/69 [00:12<00:00,  5.50it/s]\n"
          ]
        },
        {
          "output_type": "stream",
          "name": "stdout",
          "text": [
            "training Model for 100 Epochs, with 160 Labeled Data , Trial NO. 6\n"
          ]
        },
        {
          "output_type": "stream",
          "name": "stderr",
          "text": [
            "Predicting with MC Dropout Ensembles: 100%|██████████| 69/69 [00:12<00:00,  5.50it/s]\n"
          ]
        },
        {
          "output_type": "stream",
          "name": "stdout",
          "text": [
            "training Model for 100 Epochs, with 160 Labeled Data , Trial NO. 7\n"
          ]
        },
        {
          "output_type": "stream",
          "name": "stderr",
          "text": [
            "Predicting with MC Dropout Ensembles: 100%|██████████| 69/69 [00:12<00:00,  5.51it/s]\n"
          ]
        },
        {
          "output_type": "stream",
          "name": "stdout",
          "text": [
            "training Model for 100 Epochs, with 160 Labeled Data , Trial NO. 8\n"
          ]
        },
        {
          "output_type": "stream",
          "name": "stderr",
          "text": [
            "Predicting with MC Dropout Ensembles: 100%|██████████| 69/69 [00:12<00:00,  5.51it/s]\n"
          ]
        },
        {
          "output_type": "stream",
          "name": "stdout",
          "text": [
            "training Model for 100 Epochs, with 160 Labeled Data , Trial NO. 9\n"
          ]
        },
        {
          "output_type": "stream",
          "name": "stderr",
          "text": [
            "Predicting with MC Dropout Ensembles: 100%|██████████| 69/69 [00:12<00:00,  5.50it/s]\n",
            "Predicting with MC Dropout Ensembles: 100%|██████████| 9/9 [00:01<00:00,  6.28it/s]\n",
            "Predicting with MC Dropout Ensembles: 100%|██████████| 14/14 [00:02<00:00,  5.91it/s]\n",
            "Predicting with MC Dropout Ensembles: 100%|██████████| 11/11 [00:01<00:00,  6.16it/s]\n",
            "Predicting with MC Dropout Ensembles: 100%|██████████| 13/13 [00:02<00:00,  5.97it/s]\n",
            "Predicting with MC Dropout Ensembles: 100%|██████████| 10/10 [00:01<00:00,  6.16it/s]\n",
            "Predicting with MC Dropout Ensembles: 100%|██████████| 10/10 [00:01<00:00,  6.15it/s]\n",
            "Predicting with MC Dropout Ensembles: 100%|██████████| 10/10 [00:01<00:00,  6.17it/s]\n",
            "Predicting with MC Dropout Ensembles: 100%|██████████| 14/14 [00:02<00:00,  5.91it/s]\n",
            "Predicting with MC Dropout Ensembles: 100%|██████████| 15/15 [00:02<00:00,  5.88it/s]\n",
            "Predicting with MC Dropout Ensembles: 100%|██████████| 17/17 [00:02<00:00,  5.82it/s]\n"
          ]
        },
        {
          "output_type": "stream",
          "name": "stdout",
          "text": [
            " Training acc : 99.4 % | Test acc : 40.1 %\n",
            "training Model for 100 Epochs, with 320 Labeled Data , Trial NO. 0\n"
          ]
        },
        {
          "output_type": "stream",
          "name": "stderr",
          "text": [
            "Predicting with MC Dropout Ensembles: 100%|██████████| 69/69 [00:12<00:00,  5.52it/s]\n"
          ]
        },
        {
          "output_type": "stream",
          "name": "stdout",
          "text": [
            "training Model for 100 Epochs, with 320 Labeled Data , Trial NO. 1\n"
          ]
        },
        {
          "output_type": "stream",
          "name": "stderr",
          "text": [
            "Predicting with MC Dropout Ensembles: 100%|██████████| 69/69 [00:12<00:00,  5.53it/s]\n"
          ]
        },
        {
          "output_type": "stream",
          "name": "stdout",
          "text": [
            "training Model for 100 Epochs, with 320 Labeled Data , Trial NO. 2\n"
          ]
        },
        {
          "output_type": "stream",
          "name": "stderr",
          "text": [
            "Predicting with MC Dropout Ensembles: 100%|██████████| 69/69 [00:12<00:00,  5.50it/s]\n"
          ]
        },
        {
          "output_type": "stream",
          "name": "stdout",
          "text": [
            "training Model for 100 Epochs, with 320 Labeled Data , Trial NO. 3\n"
          ]
        },
        {
          "output_type": "stream",
          "name": "stderr",
          "text": [
            "Predicting with MC Dropout Ensembles: 100%|██████████| 69/69 [00:12<00:00,  5.50it/s]\n"
          ]
        },
        {
          "output_type": "stream",
          "name": "stdout",
          "text": [
            "training Model for 100 Epochs, with 320 Labeled Data , Trial NO. 4\n"
          ]
        },
        {
          "output_type": "stream",
          "name": "stderr",
          "text": [
            "Predicting with MC Dropout Ensembles: 100%|██████████| 69/69 [00:12<00:00,  5.52it/s]\n"
          ]
        },
        {
          "output_type": "stream",
          "name": "stdout",
          "text": [
            "training Model for 100 Epochs, with 320 Labeled Data , Trial NO. 5\n"
          ]
        },
        {
          "output_type": "stream",
          "name": "stderr",
          "text": [
            "Predicting with MC Dropout Ensembles: 100%|██████████| 69/69 [00:12<00:00,  5.51it/s]\n"
          ]
        },
        {
          "output_type": "stream",
          "name": "stdout",
          "text": [
            "training Model for 100 Epochs, with 320 Labeled Data , Trial NO. 6\n"
          ]
        },
        {
          "output_type": "stream",
          "name": "stderr",
          "text": [
            "Predicting with MC Dropout Ensembles: 100%|██████████| 69/69 [00:12<00:00,  5.50it/s]\n"
          ]
        },
        {
          "output_type": "stream",
          "name": "stdout",
          "text": [
            "training Model for 100 Epochs, with 320 Labeled Data , Trial NO. 7\n"
          ]
        },
        {
          "output_type": "stream",
          "name": "stderr",
          "text": [
            "Predicting with MC Dropout Ensembles: 100%|██████████| 69/69 [00:12<00:00,  5.50it/s]\n"
          ]
        },
        {
          "output_type": "stream",
          "name": "stdout",
          "text": [
            "training Model for 100 Epochs, with 320 Labeled Data , Trial NO. 8\n"
          ]
        },
        {
          "output_type": "stream",
          "name": "stderr",
          "text": [
            "Predicting with MC Dropout Ensembles: 100%|██████████| 69/69 [00:12<00:00,  5.51it/s]\n"
          ]
        },
        {
          "output_type": "stream",
          "name": "stdout",
          "text": [
            "training Model for 100 Epochs, with 320 Labeled Data , Trial NO. 9\n"
          ]
        },
        {
          "output_type": "stream",
          "name": "stderr",
          "text": [
            "Predicting with MC Dropout Ensembles: 100%|██████████| 69/69 [00:12<00:00,  5.51it/s]\n",
            "Predicting with MC Dropout Ensembles: 100%|██████████| 9/9 [00:01<00:00,  6.26it/s]\n",
            "Predicting with MC Dropout Ensembles: 100%|██████████| 14/14 [00:02<00:00,  5.93it/s]\n",
            "Predicting with MC Dropout Ensembles: 100%|██████████| 11/11 [00:01<00:00,  6.15it/s]\n",
            "Predicting with MC Dropout Ensembles: 100%|██████████| 13/13 [00:02<00:00,  5.96it/s]\n",
            "Predicting with MC Dropout Ensembles: 100%|██████████| 10/10 [00:01<00:00,  6.15it/s]\n",
            "Predicting with MC Dropout Ensembles: 100%|██████████| 10/10 [00:01<00:00,  6.17it/s]\n",
            "Predicting with MC Dropout Ensembles: 100%|██████████| 10/10 [00:01<00:00,  6.17it/s]\n",
            "Predicting with MC Dropout Ensembles: 100%|██████████| 14/14 [00:02<00:00,  5.93it/s]\n",
            "Predicting with MC Dropout Ensembles: 100%|██████████| 15/15 [00:02<00:00,  5.89it/s]\n",
            "Predicting with MC Dropout Ensembles: 100%|██████████| 17/17 [00:02<00:00,  5.83it/s]\n"
          ]
        },
        {
          "output_type": "stream",
          "name": "stdout",
          "text": [
            " Training acc : 99.4 % | Test acc : 42.3 %\n",
            "training Model for 50 Epochs, with 640 Labeled Data , Trial NO. 0\n"
          ]
        },
        {
          "output_type": "stream",
          "name": "stderr",
          "text": [
            "Predicting with MC Dropout Ensembles: 100%|██████████| 69/69 [00:12<00:00,  5.52it/s]\n"
          ]
        },
        {
          "output_type": "stream",
          "name": "stdout",
          "text": [
            "training Model for 50 Epochs, with 640 Labeled Data , Trial NO. 1\n"
          ]
        },
        {
          "output_type": "stream",
          "name": "stderr",
          "text": [
            "Predicting with MC Dropout Ensembles: 100%|██████████| 69/69 [00:12<00:00,  5.52it/s]\n"
          ]
        },
        {
          "output_type": "stream",
          "name": "stdout",
          "text": [
            "training Model for 50 Epochs, with 640 Labeled Data , Trial NO. 2\n"
          ]
        },
        {
          "output_type": "stream",
          "name": "stderr",
          "text": [
            "Predicting with MC Dropout Ensembles: 100%|██████████| 69/69 [00:12<00:00,  5.51it/s]\n"
          ]
        },
        {
          "output_type": "stream",
          "name": "stdout",
          "text": [
            "training Model for 50 Epochs, with 640 Labeled Data , Trial NO. 3\n"
          ]
        },
        {
          "output_type": "stream",
          "name": "stderr",
          "text": [
            "Predicting with MC Dropout Ensembles: 100%|██████████| 69/69 [00:12<00:00,  5.49it/s]\n"
          ]
        },
        {
          "output_type": "stream",
          "name": "stdout",
          "text": [
            "training Model for 50 Epochs, with 640 Labeled Data , Trial NO. 4\n"
          ]
        },
        {
          "output_type": "stream",
          "name": "stderr",
          "text": [
            "Predicting with MC Dropout Ensembles: 100%|██████████| 69/69 [00:12<00:00,  5.51it/s]\n"
          ]
        },
        {
          "output_type": "stream",
          "name": "stdout",
          "text": [
            "training Model for 50 Epochs, with 640 Labeled Data , Trial NO. 5\n"
          ]
        },
        {
          "output_type": "stream",
          "name": "stderr",
          "text": [
            "Predicting with MC Dropout Ensembles: 100%|██████████| 69/69 [00:12<00:00,  5.51it/s]\n"
          ]
        },
        {
          "output_type": "stream",
          "name": "stdout",
          "text": [
            "training Model for 50 Epochs, with 640 Labeled Data , Trial NO. 6\n"
          ]
        },
        {
          "output_type": "stream",
          "name": "stderr",
          "text": [
            "Predicting with MC Dropout Ensembles: 100%|██████████| 69/69 [00:12<00:00,  5.51it/s]\n"
          ]
        },
        {
          "output_type": "stream",
          "name": "stdout",
          "text": [
            "training Model for 50 Epochs, with 640 Labeled Data , Trial NO. 7\n"
          ]
        },
        {
          "output_type": "stream",
          "name": "stderr",
          "text": [
            "Predicting with MC Dropout Ensembles: 100%|██████████| 69/69 [00:12<00:00,  5.49it/s]\n"
          ]
        },
        {
          "output_type": "stream",
          "name": "stdout",
          "text": [
            "training Model for 50 Epochs, with 640 Labeled Data , Trial NO. 8\n"
          ]
        },
        {
          "output_type": "stream",
          "name": "stderr",
          "text": [
            "Predicting with MC Dropout Ensembles: 100%|██████████| 69/69 [00:12<00:00,  5.50it/s]\n"
          ]
        },
        {
          "output_type": "stream",
          "name": "stdout",
          "text": [
            "training Model for 50 Epochs, with 640 Labeled Data , Trial NO. 9\n"
          ]
        },
        {
          "output_type": "stream",
          "name": "stderr",
          "text": [
            "Predicting with MC Dropout Ensembles: 100%|██████████| 69/69 [00:12<00:00,  5.51it/s]\n",
            "Predicting with MC Dropout Ensembles: 100%|██████████| 9/9 [00:01<00:00,  6.25it/s]\n",
            "Predicting with MC Dropout Ensembles: 100%|██████████| 14/14 [00:02<00:00,  5.92it/s]\n",
            "Predicting with MC Dropout Ensembles: 100%|██████████| 10/10 [00:01<00:00,  6.16it/s]\n",
            "Predicting with MC Dropout Ensembles: 100%|██████████| 13/13 [00:02<00:00,  5.97it/s]\n",
            "Predicting with MC Dropout Ensembles: 100%|██████████| 10/10 [00:01<00:00,  6.16it/s]\n",
            "Predicting with MC Dropout Ensembles: 100%|██████████| 10/10 [00:01<00:00,  6.15it/s]\n",
            "Predicting with MC Dropout Ensembles: 100%|██████████| 10/10 [00:01<00:00,  6.18it/s]\n",
            "Predicting with MC Dropout Ensembles: 100%|██████████| 14/14 [00:02<00:00,  5.93it/s]\n",
            "Predicting with MC Dropout Ensembles: 100%|██████████| 15/15 [00:02<00:00,  5.89it/s]\n",
            "Predicting with MC Dropout Ensembles: 100%|██████████| 17/17 [00:02<00:00,  5.83it/s]\n"
          ]
        },
        {
          "output_type": "stream",
          "name": "stdout",
          "text": [
            " Training acc : 99.2 % | Test acc : 45.3 %\n",
            "training Model for 10 Epochs, with 1280 Labeled Data , Trial NO. 0\n"
          ]
        },
        {
          "output_type": "stream",
          "name": "stderr",
          "text": [
            "Predicting with MC Dropout Ensembles: 100%|██████████| 69/69 [00:12<00:00,  5.51it/s]\n"
          ]
        },
        {
          "output_type": "stream",
          "name": "stdout",
          "text": [
            "training Model for 10 Epochs, with 1280 Labeled Data , Trial NO. 1\n"
          ]
        },
        {
          "output_type": "stream",
          "name": "stderr",
          "text": [
            "Predicting with MC Dropout Ensembles: 100%|██████████| 69/69 [00:12<00:00,  5.52it/s]\n"
          ]
        },
        {
          "output_type": "stream",
          "name": "stdout",
          "text": [
            "training Model for 10 Epochs, with 1280 Labeled Data , Trial NO. 2\n"
          ]
        },
        {
          "output_type": "stream",
          "name": "stderr",
          "text": [
            "Predicting with MC Dropout Ensembles: 100%|██████████| 69/69 [00:12<00:00,  5.51it/s]\n"
          ]
        },
        {
          "output_type": "stream",
          "name": "stdout",
          "text": [
            "training Model for 10 Epochs, with 1280 Labeled Data , Trial NO. 3\n"
          ]
        },
        {
          "output_type": "stream",
          "name": "stderr",
          "text": [
            "Predicting with MC Dropout Ensembles: 100%|██████████| 69/69 [00:12<00:00,  5.50it/s]\n"
          ]
        },
        {
          "output_type": "stream",
          "name": "stdout",
          "text": [
            "training Model for 10 Epochs, with 1280 Labeled Data , Trial NO. 4\n"
          ]
        },
        {
          "output_type": "stream",
          "name": "stderr",
          "text": [
            "Predicting with MC Dropout Ensembles: 100%|██████████| 69/69 [00:12<00:00,  5.50it/s]\n"
          ]
        },
        {
          "output_type": "stream",
          "name": "stdout",
          "text": [
            "training Model for 10 Epochs, with 1280 Labeled Data , Trial NO. 5\n"
          ]
        },
        {
          "output_type": "stream",
          "name": "stderr",
          "text": [
            "Predicting with MC Dropout Ensembles: 100%|██████████| 69/69 [00:12<00:00,  5.51it/s]\n"
          ]
        },
        {
          "output_type": "stream",
          "name": "stdout",
          "text": [
            "training Model for 10 Epochs, with 1280 Labeled Data , Trial NO. 6\n"
          ]
        },
        {
          "output_type": "stream",
          "name": "stderr",
          "text": [
            "Predicting with MC Dropout Ensembles: 100%|██████████| 69/69 [00:12<00:00,  5.52it/s]\n"
          ]
        },
        {
          "output_type": "stream",
          "name": "stdout",
          "text": [
            "training Model for 10 Epochs, with 1280 Labeled Data , Trial NO. 7\n"
          ]
        },
        {
          "output_type": "stream",
          "name": "stderr",
          "text": [
            "Predicting with MC Dropout Ensembles: 100%|██████████| 69/69 [00:12<00:00,  5.51it/s]\n"
          ]
        },
        {
          "output_type": "stream",
          "name": "stdout",
          "text": [
            "training Model for 10 Epochs, with 1280 Labeled Data , Trial NO. 8\n"
          ]
        },
        {
          "output_type": "stream",
          "name": "stderr",
          "text": [
            "Predicting with MC Dropout Ensembles: 100%|██████████| 69/69 [00:12<00:00,  5.50it/s]\n"
          ]
        },
        {
          "output_type": "stream",
          "name": "stdout",
          "text": [
            "training Model for 10 Epochs, with 1280 Labeled Data , Trial NO. 9\n"
          ]
        },
        {
          "output_type": "stream",
          "name": "stderr",
          "text": [
            "Predicting with MC Dropout Ensembles: 100%|██████████| 69/69 [00:12<00:00,  5.50it/s]\n",
            "Predicting with MC Dropout Ensembles: 100%|██████████| 9/9 [00:01<00:00,  6.19it/s]\n",
            "Predicting with MC Dropout Ensembles: 100%|██████████| 14/14 [00:02<00:00,  5.91it/s]\n",
            "Predicting with MC Dropout Ensembles: 100%|██████████| 10/10 [00:01<00:00,  6.10it/s]\n",
            "Predicting with MC Dropout Ensembles: 100%|██████████| 13/13 [00:02<00:00,  5.94it/s]\n",
            "Predicting with MC Dropout Ensembles: 100%|██████████| 10/10 [00:01<00:00,  6.16it/s]\n",
            "Predicting with MC Dropout Ensembles: 100%|██████████| 10/10 [00:01<00:00,  6.17it/s]\n",
            "Predicting with MC Dropout Ensembles: 100%|██████████| 10/10 [00:01<00:00,  6.16it/s]\n",
            "Predicting with MC Dropout Ensembles: 100%|██████████| 14/14 [00:02<00:00,  5.93it/s]\n",
            "Predicting with MC Dropout Ensembles: 100%|██████████| 15/15 [00:02<00:00,  5.90it/s]\n",
            "Predicting with MC Dropout Ensembles: 100%|██████████| 17/17 [00:02<00:00,  5.83it/s]\n"
          ]
        },
        {
          "output_type": "stream",
          "name": "stdout",
          "text": [
            " Training acc : 97.3 % | Test acc : 51.1 %\n"
          ]
        }
      ]
    },
    {
      "cell_type": "code",
      "source": [
        "import pickle\n",
        "# Data to save\n",
        "data_to_save = {\n",
        "    \"entropy_TRAIN_ACCURACIES\": entropy_TRAIN_ACCURACIES,\n",
        "    \"entropy_TEST_ACCURACIES\": entropy_TEST_ACCURACIES,\n",
        "\n",
        "}\n",
        "\n",
        "# Save to pickle file\n",
        "with open(\"entropy_accuracies.pkl\", \"wb\") as file:\n",
        "    pickle.dump(data_to_save, file)\n",
        "\n",
        "print(\"Data saved to entropy_accuracies.pkl\")\n"
      ],
      "metadata": {
        "colab": {
          "base_uri": "https://localhost:8080/"
        },
        "id": "UgYsk79mK3KU",
        "outputId": "436383e5-fd5b-44b5-b4b3-a537183f052e"
      },
      "execution_count": null,
      "outputs": [
        {
          "output_type": "stream",
          "name": "stdout",
          "text": [
            "Data saved to entropy_accuracies.pkl\n"
          ]
        }
      ]
    },
    {
      "cell_type": "markdown",
      "source": [
        "#### Margin Sampling"
      ],
      "metadata": {
        "id": "tvKECa2M68np"
      }
    },
    {
      "cell_type": "code",
      "source": [
        "unlabeled_pool = [train_idx[labels == c] for c in range(10)]\n",
        "\n",
        "#  Trianning by increasing data points\n",
        "labeled_per_class = [1,2, 4, 8, 16, 32 , 64 ,128]\n",
        "# Define geometric progression for epochs\n",
        "epochs_list = np.geomspace(start=1, stop=2048, num=12, dtype=int)\n",
        "\n",
        "# get the 20 data points\n",
        "initial_subset = select_k(1)\n",
        "# initialized labeled data\n",
        "labeled_pool =  initial_subset\n",
        "margin_TRAIN_ACCURACIES = []\n",
        "margin_TEST_ACCURACIES = []\n",
        "\n",
        "for samples in labeled_per_class :\n",
        "  seed = 42 + len(labeled_pool)\n",
        "\n",
        "  train_trial_result = [];  test_trial_result = []\n",
        "  epochs = get_epoch(labeled_pool)\n",
        "\n",
        "  for trial in range(10):\n",
        "    np.random.seed(seed) ;  torch.manual_seed(seed)\n",
        "\n",
        "    model, optimizer = create_model_optimizer(seed+trial)\n",
        "    #  get accuracies\n",
        "    model, train_acc = train_labeled(model,optimizer, labeled_pool , full_train_dataset, epochs, trial)\n",
        "    test_accuracy = eval_model(model , test_loader_dirty_mnist)\n",
        "    # track metrics\n",
        "    train_trial_result.append(train_acc)\n",
        "    test_trial_result.append(test_accuracy)\n",
        "  margin_TRAIN_ACCURACIES.append((len(labeled_pool) ,train_trial_result ))\n",
        "  margin_TEST_ACCURACIES.append((len(labeled_pool),test_trial_result))\n",
        "\n",
        "# select one sampel for each class, total k = 10\n",
        "\n",
        "\n",
        "  # update the labeled indices\n",
        "  labeled_pool,unlabeled_pool=  margin_sampling(labeled_pool, unlabeled_pool, full_train_dataset , samples)\n",
        "\n",
        "\n",
        "  print(f\" Training acc : {train_acc:.1f} % | Test acc : {test_accuracy:.1f} %\" )"
      ],
      "metadata": {
        "colab": {
          "base_uri": "https://localhost:8080/"
        },
        "id": "QRtaKWAEom05",
        "outputId": "d59ba5f8-e7cf-437e-88d4-e468022f4598",
        "collapsed": true
      },
      "execution_count": null,
      "outputs": [
        {
          "output_type": "stream",
          "name": "stdout",
          "text": [
            "training Model for 200 Epochs, with 10 Labeled Data , Trial NO. 0\n"
          ]
        },
        {
          "output_type": "stream",
          "name": "stderr",
          "text": [
            "Predicting with MC Dropout Ensembles: 100%|██████████| 69/69 [00:12<00:00,  5.47it/s]\n"
          ]
        },
        {
          "output_type": "stream",
          "name": "stdout",
          "text": [
            "training Model for 200 Epochs, with 10 Labeled Data , Trial NO. 1\n"
          ]
        },
        {
          "output_type": "stream",
          "name": "stderr",
          "text": [
            "Predicting with MC Dropout Ensembles: 100%|██████████| 69/69 [00:12<00:00,  5.43it/s]\n"
          ]
        },
        {
          "output_type": "stream",
          "name": "stdout",
          "text": [
            "training Model for 200 Epochs, with 10 Labeled Data , Trial NO. 2\n"
          ]
        },
        {
          "output_type": "stream",
          "name": "stderr",
          "text": [
            "Predicting with MC Dropout Ensembles: 100%|██████████| 69/69 [00:12<00:00,  5.44it/s]\n"
          ]
        },
        {
          "output_type": "stream",
          "name": "stdout",
          "text": [
            "training Model for 200 Epochs, with 10 Labeled Data , Trial NO. 3\n"
          ]
        },
        {
          "output_type": "stream",
          "name": "stderr",
          "text": [
            "Predicting with MC Dropout Ensembles: 100%|██████████| 69/69 [00:12<00:00,  5.47it/s]\n"
          ]
        },
        {
          "output_type": "stream",
          "name": "stdout",
          "text": [
            "training Model for 200 Epochs, with 10 Labeled Data , Trial NO. 4\n"
          ]
        },
        {
          "output_type": "stream",
          "name": "stderr",
          "text": [
            "Predicting with MC Dropout Ensembles: 100%|██████████| 69/69 [00:12<00:00,  5.45it/s]\n"
          ]
        },
        {
          "output_type": "stream",
          "name": "stdout",
          "text": [
            "training Model for 200 Epochs, with 10 Labeled Data , Trial NO. 5\n"
          ]
        },
        {
          "output_type": "stream",
          "name": "stderr",
          "text": [
            "Predicting with MC Dropout Ensembles: 100%|██████████| 69/69 [00:12<00:00,  5.51it/s]\n"
          ]
        },
        {
          "output_type": "stream",
          "name": "stdout",
          "text": [
            "training Model for 200 Epochs, with 10 Labeled Data , Trial NO. 6\n"
          ]
        },
        {
          "output_type": "stream",
          "name": "stderr",
          "text": [
            "Predicting with MC Dropout Ensembles: 100%|██████████| 69/69 [00:12<00:00,  5.42it/s]\n"
          ]
        },
        {
          "output_type": "stream",
          "name": "stdout",
          "text": [
            "training Model for 200 Epochs, with 10 Labeled Data , Trial NO. 7\n"
          ]
        },
        {
          "output_type": "stream",
          "name": "stderr",
          "text": [
            "Predicting with MC Dropout Ensembles: 100%|██████████| 69/69 [00:12<00:00,  5.46it/s]\n"
          ]
        },
        {
          "output_type": "stream",
          "name": "stdout",
          "text": [
            "training Model for 200 Epochs, with 10 Labeled Data , Trial NO. 8\n"
          ]
        },
        {
          "output_type": "stream",
          "name": "stderr",
          "text": [
            "Predicting with MC Dropout Ensembles: 100%|██████████| 69/69 [00:12<00:00,  5.49it/s]\n"
          ]
        },
        {
          "output_type": "stream",
          "name": "stdout",
          "text": [
            "training Model for 200 Epochs, with 10 Labeled Data , Trial NO. 9\n"
          ]
        },
        {
          "output_type": "stream",
          "name": "stderr",
          "text": [
            "Predicting with MC Dropout Ensembles: 100%|██████████| 69/69 [00:12<00:00,  5.50it/s]\n"
          ]
        },
        {
          "output_type": "stream",
          "name": "stdout",
          "text": [
            " Training acc : 100.0 % | Test acc : 34.6 %\n",
            "training Model for 200 Epochs, with 20 Labeled Data , Trial NO. 0\n"
          ]
        },
        {
          "output_type": "stream",
          "name": "stderr",
          "text": [
            "Predicting with MC Dropout Ensembles: 100%|██████████| 69/69 [00:12<00:00,  5.55it/s]\n"
          ]
        },
        {
          "output_type": "stream",
          "name": "stdout",
          "text": [
            "training Model for 200 Epochs, with 20 Labeled Data , Trial NO. 1\n"
          ]
        },
        {
          "output_type": "stream",
          "name": "stderr",
          "text": [
            "Predicting with MC Dropout Ensembles: 100%|██████████| 69/69 [00:12<00:00,  5.48it/s]\n"
          ]
        },
        {
          "output_type": "stream",
          "name": "stdout",
          "text": [
            "training Model for 200 Epochs, with 20 Labeled Data , Trial NO. 2\n"
          ]
        },
        {
          "output_type": "stream",
          "name": "stderr",
          "text": [
            "Predicting with MC Dropout Ensembles: 100%|██████████| 69/69 [00:12<00:00,  5.44it/s]\n"
          ]
        },
        {
          "output_type": "stream",
          "name": "stdout",
          "text": [
            "training Model for 200 Epochs, with 20 Labeled Data , Trial NO. 3\n"
          ]
        },
        {
          "output_type": "stream",
          "name": "stderr",
          "text": [
            "Predicting with MC Dropout Ensembles: 100%|██████████| 69/69 [00:12<00:00,  5.46it/s]\n"
          ]
        },
        {
          "output_type": "stream",
          "name": "stdout",
          "text": [
            "training Model for 200 Epochs, with 20 Labeled Data , Trial NO. 4\n"
          ]
        },
        {
          "output_type": "stream",
          "name": "stderr",
          "text": [
            "Predicting with MC Dropout Ensembles: 100%|██████████| 69/69 [00:12<00:00,  5.51it/s]\n"
          ]
        },
        {
          "output_type": "stream",
          "name": "stdout",
          "text": [
            "training Model for 200 Epochs, with 20 Labeled Data , Trial NO. 5\n"
          ]
        },
        {
          "output_type": "stream",
          "name": "stderr",
          "text": [
            "Predicting with MC Dropout Ensembles: 100%|██████████| 69/69 [00:12<00:00,  5.53it/s]\n"
          ]
        },
        {
          "output_type": "stream",
          "name": "stdout",
          "text": [
            "training Model for 200 Epochs, with 20 Labeled Data , Trial NO. 6\n"
          ]
        },
        {
          "output_type": "stream",
          "name": "stderr",
          "text": [
            "Predicting with MC Dropout Ensembles: 100%|██████████| 69/69 [00:12<00:00,  5.52it/s]\n"
          ]
        },
        {
          "output_type": "stream",
          "name": "stdout",
          "text": [
            "training Model for 200 Epochs, with 20 Labeled Data , Trial NO. 7\n"
          ]
        },
        {
          "output_type": "stream",
          "name": "stderr",
          "text": [
            "Predicting with MC Dropout Ensembles: 100%|██████████| 69/69 [00:12<00:00,  5.49it/s]\n"
          ]
        },
        {
          "output_type": "stream",
          "name": "stdout",
          "text": [
            "training Model for 200 Epochs, with 20 Labeled Data , Trial NO. 8\n"
          ]
        },
        {
          "output_type": "stream",
          "name": "stderr",
          "text": [
            "Predicting with MC Dropout Ensembles: 100%|██████████| 69/69 [00:12<00:00,  5.48it/s]\n"
          ]
        },
        {
          "output_type": "stream",
          "name": "stdout",
          "text": [
            "training Model for 200 Epochs, with 20 Labeled Data , Trial NO. 9\n"
          ]
        },
        {
          "output_type": "stream",
          "name": "stderr",
          "text": [
            "Predicting with MC Dropout Ensembles: 100%|██████████| 69/69 [00:12<00:00,  5.49it/s]\n"
          ]
        },
        {
          "output_type": "stream",
          "name": "stdout",
          "text": [
            " Training acc : 100.0 % | Test acc : 42.0 %\n",
            "training Model for 200 Epochs, with 40 Labeled Data , Trial NO. 0\n"
          ]
        },
        {
          "output_type": "stream",
          "name": "stderr",
          "text": [
            "Predicting with MC Dropout Ensembles: 100%|██████████| 69/69 [00:12<00:00,  5.49it/s]\n"
          ]
        },
        {
          "output_type": "stream",
          "name": "stdout",
          "text": [
            "training Model for 200 Epochs, with 40 Labeled Data , Trial NO. 1\n"
          ]
        },
        {
          "output_type": "stream",
          "name": "stderr",
          "text": [
            "Predicting with MC Dropout Ensembles: 100%|██████████| 69/69 [00:12<00:00,  5.42it/s]\n"
          ]
        },
        {
          "output_type": "stream",
          "name": "stdout",
          "text": [
            "training Model for 200 Epochs, with 40 Labeled Data , Trial NO. 2\n"
          ]
        },
        {
          "output_type": "stream",
          "name": "stderr",
          "text": [
            "Predicting with MC Dropout Ensembles: 100%|██████████| 69/69 [00:12<00:00,  5.46it/s]\n"
          ]
        },
        {
          "output_type": "stream",
          "name": "stdout",
          "text": [
            "training Model for 200 Epochs, with 40 Labeled Data , Trial NO. 3\n"
          ]
        },
        {
          "output_type": "stream",
          "name": "stderr",
          "text": [
            "Predicting with MC Dropout Ensembles: 100%|██████████| 69/69 [00:12<00:00,  5.52it/s]\n"
          ]
        },
        {
          "output_type": "stream",
          "name": "stdout",
          "text": [
            "training Model for 200 Epochs, with 40 Labeled Data , Trial NO. 4\n"
          ]
        },
        {
          "output_type": "stream",
          "name": "stderr",
          "text": [
            "Predicting with MC Dropout Ensembles: 100%|██████████| 69/69 [00:12<00:00,  5.54it/s]\n"
          ]
        },
        {
          "output_type": "stream",
          "name": "stdout",
          "text": [
            "training Model for 200 Epochs, with 40 Labeled Data , Trial NO. 5\n"
          ]
        },
        {
          "output_type": "stream",
          "name": "stderr",
          "text": [
            "Predicting with MC Dropout Ensembles: 100%|██████████| 69/69 [00:12<00:00,  5.52it/s]\n"
          ]
        },
        {
          "output_type": "stream",
          "name": "stdout",
          "text": [
            "training Model for 200 Epochs, with 40 Labeled Data , Trial NO. 6\n"
          ]
        },
        {
          "output_type": "stream",
          "name": "stderr",
          "text": [
            "Predicting with MC Dropout Ensembles: 100%|██████████| 69/69 [00:12<00:00,  5.50it/s]\n"
          ]
        },
        {
          "output_type": "stream",
          "name": "stdout",
          "text": [
            "training Model for 200 Epochs, with 40 Labeled Data , Trial NO. 7\n"
          ]
        },
        {
          "output_type": "stream",
          "name": "stderr",
          "text": [
            "Predicting with MC Dropout Ensembles: 100%|██████████| 69/69 [00:12<00:00,  5.48it/s]\n"
          ]
        },
        {
          "output_type": "stream",
          "name": "stdout",
          "text": [
            "training Model for 200 Epochs, with 40 Labeled Data , Trial NO. 8\n"
          ]
        },
        {
          "output_type": "stream",
          "name": "stderr",
          "text": [
            "Predicting with MC Dropout Ensembles: 100%|██████████| 69/69 [00:12<00:00,  5.49it/s]\n"
          ]
        },
        {
          "output_type": "stream",
          "name": "stdout",
          "text": [
            "training Model for 200 Epochs, with 40 Labeled Data , Trial NO. 9\n"
          ]
        },
        {
          "output_type": "stream",
          "name": "stderr",
          "text": [
            "Predicting with MC Dropout Ensembles: 100%|██████████| 69/69 [00:12<00:00,  5.51it/s]\n"
          ]
        },
        {
          "output_type": "stream",
          "name": "stdout",
          "text": [
            " Training acc : 97.5 % | Test acc : 47.7 %\n",
            "training Model for 200 Epochs, with 80 Labeled Data , Trial NO. 0\n"
          ]
        },
        {
          "output_type": "stream",
          "name": "stderr",
          "text": [
            "Predicting with MC Dropout Ensembles: 100%|██████████| 69/69 [00:12<00:00,  5.54it/s]\n"
          ]
        },
        {
          "output_type": "stream",
          "name": "stdout",
          "text": [
            "training Model for 200 Epochs, with 80 Labeled Data , Trial NO. 1\n"
          ]
        },
        {
          "output_type": "stream",
          "name": "stderr",
          "text": [
            "Predicting with MC Dropout Ensembles: 100%|██████████| 69/69 [00:12<00:00,  5.47it/s]\n"
          ]
        },
        {
          "output_type": "stream",
          "name": "stdout",
          "text": [
            "training Model for 200 Epochs, with 80 Labeled Data , Trial NO. 2\n"
          ]
        },
        {
          "output_type": "stream",
          "name": "stderr",
          "text": [
            "Predicting with MC Dropout Ensembles: 100%|██████████| 69/69 [00:12<00:00,  5.43it/s]\n"
          ]
        },
        {
          "output_type": "stream",
          "name": "stdout",
          "text": [
            "training Model for 200 Epochs, with 80 Labeled Data , Trial NO. 3\n"
          ]
        },
        {
          "output_type": "stream",
          "name": "stderr",
          "text": [
            "Predicting with MC Dropout Ensembles: 100%|██████████| 69/69 [00:12<00:00,  5.48it/s]\n"
          ]
        },
        {
          "output_type": "stream",
          "name": "stdout",
          "text": [
            "training Model for 200 Epochs, with 80 Labeled Data , Trial NO. 4\n"
          ]
        },
        {
          "output_type": "stream",
          "name": "stderr",
          "text": [
            "Predicting with MC Dropout Ensembles: 100%|██████████| 69/69 [00:12<00:00,  5.51it/s]\n"
          ]
        },
        {
          "output_type": "stream",
          "name": "stdout",
          "text": [
            "training Model for 200 Epochs, with 80 Labeled Data , Trial NO. 5\n"
          ]
        },
        {
          "output_type": "stream",
          "name": "stderr",
          "text": [
            "Predicting with MC Dropout Ensembles: 100%|██████████| 69/69 [00:12<00:00,  5.52it/s]\n"
          ]
        },
        {
          "output_type": "stream",
          "name": "stdout",
          "text": [
            "training Model for 200 Epochs, with 80 Labeled Data , Trial NO. 6\n"
          ]
        },
        {
          "output_type": "stream",
          "name": "stderr",
          "text": [
            "Predicting with MC Dropout Ensembles: 100%|██████████| 69/69 [00:12<00:00,  5.51it/s]\n"
          ]
        },
        {
          "output_type": "stream",
          "name": "stdout",
          "text": [
            "training Model for 200 Epochs, with 80 Labeled Data , Trial NO. 7\n"
          ]
        },
        {
          "output_type": "stream",
          "name": "stderr",
          "text": [
            "Predicting with MC Dropout Ensembles: 100%|██████████| 69/69 [00:12<00:00,  5.49it/s]\n"
          ]
        },
        {
          "output_type": "stream",
          "name": "stdout",
          "text": [
            "training Model for 200 Epochs, with 80 Labeled Data , Trial NO. 8\n"
          ]
        },
        {
          "output_type": "stream",
          "name": "stderr",
          "text": [
            "Predicting with MC Dropout Ensembles: 100%|██████████| 69/69 [00:12<00:00,  5.48it/s]\n"
          ]
        },
        {
          "output_type": "stream",
          "name": "stdout",
          "text": [
            "training Model for 200 Epochs, with 80 Labeled Data , Trial NO. 9\n"
          ]
        },
        {
          "output_type": "stream",
          "name": "stderr",
          "text": [
            "Predicting with MC Dropout Ensembles: 100%|██████████| 69/69 [00:12<00:00,  5.50it/s]\n"
          ]
        },
        {
          "output_type": "stream",
          "name": "stdout",
          "text": [
            " Training acc : 96.2 % | Test acc : 56.6 %\n",
            "training Model for 100 Epochs, with 160 Labeled Data , Trial NO. 0\n"
          ]
        },
        {
          "output_type": "stream",
          "name": "stderr",
          "text": [
            "Predicting with MC Dropout Ensembles: 100%|██████████| 69/69 [00:12<00:00,  5.52it/s]\n"
          ]
        },
        {
          "output_type": "stream",
          "name": "stdout",
          "text": [
            "training Model for 100 Epochs, with 160 Labeled Data , Trial NO. 1\n"
          ]
        },
        {
          "output_type": "stream",
          "name": "stderr",
          "text": [
            "Predicting with MC Dropout Ensembles: 100%|██████████| 69/69 [00:12<00:00,  5.46it/s]\n"
          ]
        },
        {
          "output_type": "stream",
          "name": "stdout",
          "text": [
            "training Model for 100 Epochs, with 160 Labeled Data , Trial NO. 2\n"
          ]
        },
        {
          "output_type": "stream",
          "name": "stderr",
          "text": [
            "Predicting with MC Dropout Ensembles: 100%|██████████| 69/69 [00:12<00:00,  5.43it/s]\n"
          ]
        },
        {
          "output_type": "stream",
          "name": "stdout",
          "text": [
            "training Model for 100 Epochs, with 160 Labeled Data , Trial NO. 3\n"
          ]
        },
        {
          "output_type": "stream",
          "name": "stderr",
          "text": [
            "Predicting with MC Dropout Ensembles: 100%|██████████| 69/69 [00:12<00:00,  5.49it/s]\n"
          ]
        },
        {
          "output_type": "stream",
          "name": "stdout",
          "text": [
            "training Model for 100 Epochs, with 160 Labeled Data , Trial NO. 4\n"
          ]
        },
        {
          "output_type": "stream",
          "name": "stderr",
          "text": [
            "Predicting with MC Dropout Ensembles: 100%|██████████| 69/69 [00:12<00:00,  5.53it/s]\n"
          ]
        },
        {
          "output_type": "stream",
          "name": "stdout",
          "text": [
            "training Model for 100 Epochs, with 160 Labeled Data , Trial NO. 5\n"
          ]
        },
        {
          "output_type": "stream",
          "name": "stderr",
          "text": [
            "Predicting with MC Dropout Ensembles: 100%|██████████| 69/69 [00:12<00:00,  5.53it/s]\n"
          ]
        },
        {
          "output_type": "stream",
          "name": "stdout",
          "text": [
            "training Model for 100 Epochs, with 160 Labeled Data , Trial NO. 6\n"
          ]
        },
        {
          "output_type": "stream",
          "name": "stderr",
          "text": [
            "Predicting with MC Dropout Ensembles: 100%|██████████| 69/69 [00:12<00:00,  5.50it/s]\n"
          ]
        },
        {
          "output_type": "stream",
          "name": "stdout",
          "text": [
            "training Model for 100 Epochs, with 160 Labeled Data , Trial NO. 7\n"
          ]
        },
        {
          "output_type": "stream",
          "name": "stderr",
          "text": [
            "Predicting with MC Dropout Ensembles: 100%|██████████| 69/69 [00:12<00:00,  5.47it/s]\n"
          ]
        },
        {
          "output_type": "stream",
          "name": "stdout",
          "text": [
            "training Model for 100 Epochs, with 160 Labeled Data , Trial NO. 8\n"
          ]
        },
        {
          "output_type": "stream",
          "name": "stderr",
          "text": [
            "Predicting with MC Dropout Ensembles: 100%|██████████| 69/69 [00:12<00:00,  5.50it/s]\n"
          ]
        },
        {
          "output_type": "stream",
          "name": "stdout",
          "text": [
            "training Model for 100 Epochs, with 160 Labeled Data , Trial NO. 9\n"
          ]
        },
        {
          "output_type": "stream",
          "name": "stderr",
          "text": [
            "Predicting with MC Dropout Ensembles: 100%|██████████| 69/69 [00:12<00:00,  5.51it/s]\n"
          ]
        },
        {
          "output_type": "stream",
          "name": "stdout",
          "text": [
            " Training acc : 93.1 % | Test acc : 60.9 %\n",
            "training Model for 100 Epochs, with 320 Labeled Data , Trial NO. 0\n"
          ]
        },
        {
          "output_type": "stream",
          "name": "stderr",
          "text": [
            "Predicting with MC Dropout Ensembles: 100%|██████████| 69/69 [00:12<00:00,  5.53it/s]\n"
          ]
        },
        {
          "output_type": "stream",
          "name": "stdout",
          "text": [
            "training Model for 100 Epochs, with 320 Labeled Data , Trial NO. 1\n"
          ]
        },
        {
          "output_type": "stream",
          "name": "stderr",
          "text": [
            "Predicting with MC Dropout Ensembles: 100%|██████████| 69/69 [00:12<00:00,  5.46it/s]\n"
          ]
        },
        {
          "output_type": "stream",
          "name": "stdout",
          "text": [
            "training Model for 100 Epochs, with 320 Labeled Data , Trial NO. 2\n"
          ]
        },
        {
          "output_type": "stream",
          "name": "stderr",
          "text": [
            "Predicting with MC Dropout Ensembles: 100%|██████████| 69/69 [00:12<00:00,  5.43it/s]\n"
          ]
        },
        {
          "output_type": "stream",
          "name": "stdout",
          "text": [
            "training Model for 100 Epochs, with 320 Labeled Data , Trial NO. 3\n"
          ]
        },
        {
          "output_type": "stream",
          "name": "stderr",
          "text": [
            "Predicting with MC Dropout Ensembles: 100%|██████████| 69/69 [00:12<00:00,  5.51it/s]\n"
          ]
        },
        {
          "output_type": "stream",
          "name": "stdout",
          "text": [
            "training Model for 100 Epochs, with 320 Labeled Data , Trial NO. 4\n"
          ]
        },
        {
          "output_type": "stream",
          "name": "stderr",
          "text": [
            "Predicting with MC Dropout Ensembles: 100%|██████████| 69/69 [00:12<00:00,  5.52it/s]\n"
          ]
        },
        {
          "output_type": "stream",
          "name": "stdout",
          "text": [
            "training Model for 100 Epochs, with 320 Labeled Data , Trial NO. 5\n"
          ]
        },
        {
          "output_type": "stream",
          "name": "stderr",
          "text": [
            "Predicting with MC Dropout Ensembles: 100%|██████████| 69/69 [00:12<00:00,  5.52it/s]\n"
          ]
        },
        {
          "output_type": "stream",
          "name": "stdout",
          "text": [
            "training Model for 100 Epochs, with 320 Labeled Data , Trial NO. 6\n"
          ]
        },
        {
          "output_type": "stream",
          "name": "stderr",
          "text": [
            "Predicting with MC Dropout Ensembles: 100%|██████████| 69/69 [00:12<00:00,  5.49it/s]\n"
          ]
        },
        {
          "output_type": "stream",
          "name": "stdout",
          "text": [
            "training Model for 100 Epochs, with 320 Labeled Data , Trial NO. 7\n"
          ]
        },
        {
          "output_type": "stream",
          "name": "stderr",
          "text": [
            "Predicting with MC Dropout Ensembles: 100%|██████████| 69/69 [00:12<00:00,  5.48it/s]\n"
          ]
        },
        {
          "output_type": "stream",
          "name": "stdout",
          "text": [
            "training Model for 100 Epochs, with 320 Labeled Data , Trial NO. 8\n"
          ]
        },
        {
          "output_type": "stream",
          "name": "stderr",
          "text": [
            "Predicting with MC Dropout Ensembles: 100%|██████████| 69/69 [00:12<00:00,  5.50it/s]\n"
          ]
        },
        {
          "output_type": "stream",
          "name": "stdout",
          "text": [
            "training Model for 100 Epochs, with 320 Labeled Data , Trial NO. 9\n"
          ]
        },
        {
          "output_type": "stream",
          "name": "stderr",
          "text": [
            "Predicting with MC Dropout Ensembles: 100%|██████████| 69/69 [00:12<00:00,  5.50it/s]\n"
          ]
        },
        {
          "output_type": "stream",
          "name": "stdout",
          "text": [
            " Training acc : 90.3 % | Test acc : 65.7 %\n",
            "training Model for 50 Epochs, with 640 Labeled Data , Trial NO. 0\n"
          ]
        },
        {
          "output_type": "stream",
          "name": "stderr",
          "text": [
            "Predicting with MC Dropout Ensembles: 100%|██████████| 69/69 [00:12<00:00,  5.45it/s]\n"
          ]
        },
        {
          "output_type": "stream",
          "name": "stdout",
          "text": [
            "training Model for 50 Epochs, with 640 Labeled Data , Trial NO. 1\n"
          ]
        },
        {
          "output_type": "stream",
          "name": "stderr",
          "text": [
            "Predicting with MC Dropout Ensembles: 100%|██████████| 69/69 [00:12<00:00,  5.43it/s]\n"
          ]
        },
        {
          "output_type": "stream",
          "name": "stdout",
          "text": [
            "training Model for 50 Epochs, with 640 Labeled Data , Trial NO. 2\n"
          ]
        },
        {
          "output_type": "stream",
          "name": "stderr",
          "text": [
            "Predicting with MC Dropout Ensembles: 100%|██████████| 69/69 [00:12<00:00,  5.50it/s]\n"
          ]
        },
        {
          "output_type": "stream",
          "name": "stdout",
          "text": [
            "training Model for 50 Epochs, with 640 Labeled Data , Trial NO. 3\n"
          ]
        },
        {
          "output_type": "stream",
          "name": "stderr",
          "text": [
            "Predicting with MC Dropout Ensembles: 100%|██████████| 69/69 [00:12<00:00,  5.53it/s]\n"
          ]
        },
        {
          "output_type": "stream",
          "name": "stdout",
          "text": [
            "training Model for 50 Epochs, with 640 Labeled Data , Trial NO. 4\n"
          ]
        },
        {
          "output_type": "stream",
          "name": "stderr",
          "text": [
            "Predicting with MC Dropout Ensembles: 100%|██████████| 69/69 [00:12<00:00,  5.53it/s]\n"
          ]
        },
        {
          "output_type": "stream",
          "name": "stdout",
          "text": [
            "training Model for 50 Epochs, with 640 Labeled Data , Trial NO. 5\n"
          ]
        },
        {
          "output_type": "stream",
          "name": "stderr",
          "text": [
            "Predicting with MC Dropout Ensembles: 100%|██████████| 69/69 [00:12<00:00,  5.49it/s]\n"
          ]
        },
        {
          "output_type": "stream",
          "name": "stdout",
          "text": [
            "training Model for 50 Epochs, with 640 Labeled Data , Trial NO. 6\n"
          ]
        },
        {
          "output_type": "stream",
          "name": "stderr",
          "text": [
            "Predicting with MC Dropout Ensembles: 100%|██████████| 69/69 [00:12<00:00,  5.48it/s]\n"
          ]
        },
        {
          "output_type": "stream",
          "name": "stdout",
          "text": [
            "training Model for 50 Epochs, with 640 Labeled Data , Trial NO. 7\n"
          ]
        },
        {
          "output_type": "stream",
          "name": "stderr",
          "text": [
            "Predicting with MC Dropout Ensembles: 100%|██████████| 69/69 [00:12<00:00,  5.49it/s]\n"
          ]
        },
        {
          "output_type": "stream",
          "name": "stdout",
          "text": [
            "training Model for 50 Epochs, with 640 Labeled Data , Trial NO. 8\n"
          ]
        },
        {
          "output_type": "stream",
          "name": "stderr",
          "text": [
            "Predicting with MC Dropout Ensembles: 100%|██████████| 69/69 [00:12<00:00,  5.52it/s]\n"
          ]
        },
        {
          "output_type": "stream",
          "name": "stdout",
          "text": [
            "training Model for 50 Epochs, with 640 Labeled Data , Trial NO. 9\n"
          ]
        },
        {
          "output_type": "stream",
          "name": "stderr",
          "text": [
            "Predicting with MC Dropout Ensembles: 100%|██████████| 69/69 [00:12<00:00,  5.52it/s]\n"
          ]
        },
        {
          "output_type": "stream",
          "name": "stdout",
          "text": [
            " Training acc : 76.6 % | Test acc : 70.2 %\n",
            "training Model for 10 Epochs, with 1280 Labeled Data , Trial NO. 0\n"
          ]
        },
        {
          "output_type": "stream",
          "name": "stderr",
          "text": [
            "Predicting with MC Dropout Ensembles: 100%|██████████| 69/69 [00:12<00:00,  5.45it/s]\n"
          ]
        },
        {
          "output_type": "stream",
          "name": "stdout",
          "text": [
            "training Model for 10 Epochs, with 1280 Labeled Data , Trial NO. 1\n"
          ]
        },
        {
          "output_type": "stream",
          "name": "stderr",
          "text": [
            "Predicting with MC Dropout Ensembles: 100%|██████████| 69/69 [00:12<00:00,  5.41it/s]\n"
          ]
        },
        {
          "output_type": "stream",
          "name": "stdout",
          "text": [
            "training Model for 10 Epochs, with 1280 Labeled Data , Trial NO. 2\n"
          ]
        },
        {
          "output_type": "stream",
          "name": "stderr",
          "text": [
            "Predicting with MC Dropout Ensembles: 100%|██████████| 69/69 [00:12<00:00,  5.49it/s]\n"
          ]
        },
        {
          "output_type": "stream",
          "name": "stdout",
          "text": [
            "training Model for 10 Epochs, with 1280 Labeled Data , Trial NO. 3\n"
          ]
        },
        {
          "output_type": "stream",
          "name": "stderr",
          "text": [
            "Predicting with MC Dropout Ensembles: 100%|██████████| 69/69 [00:12<00:00,  5.54it/s]\n"
          ]
        },
        {
          "output_type": "stream",
          "name": "stdout",
          "text": [
            "training Model for 10 Epochs, with 1280 Labeled Data , Trial NO. 4\n"
          ]
        },
        {
          "output_type": "stream",
          "name": "stderr",
          "text": [
            "Predicting with MC Dropout Ensembles: 100%|██████████| 69/69 [00:12<00:00,  5.53it/s]\n"
          ]
        },
        {
          "output_type": "stream",
          "name": "stdout",
          "text": [
            "training Model for 10 Epochs, with 1280 Labeled Data , Trial NO. 5\n"
          ]
        },
        {
          "output_type": "stream",
          "name": "stderr",
          "text": [
            "Predicting with MC Dropout Ensembles: 100%|██████████| 69/69 [00:12<00:00,  5.51it/s]\n"
          ]
        },
        {
          "output_type": "stream",
          "name": "stdout",
          "text": [
            "training Model for 10 Epochs, with 1280 Labeled Data , Trial NO. 6\n"
          ]
        },
        {
          "output_type": "stream",
          "name": "stderr",
          "text": [
            "Predicting with MC Dropout Ensembles: 100%|██████████| 69/69 [00:12<00:00,  5.49it/s]\n"
          ]
        },
        {
          "output_type": "stream",
          "name": "stdout",
          "text": [
            "training Model for 10 Epochs, with 1280 Labeled Data , Trial NO. 7\n"
          ]
        },
        {
          "output_type": "stream",
          "name": "stderr",
          "text": [
            "Predicting with MC Dropout Ensembles: 100%|██████████| 69/69 [00:12<00:00,  5.48it/s]\n"
          ]
        },
        {
          "output_type": "stream",
          "name": "stdout",
          "text": [
            "training Model for 10 Epochs, with 1280 Labeled Data , Trial NO. 8\n"
          ]
        },
        {
          "output_type": "stream",
          "name": "stderr",
          "text": [
            "Predicting with MC Dropout Ensembles: 100%|██████████| 69/69 [00:12<00:00,  5.50it/s]\n"
          ]
        },
        {
          "output_type": "stream",
          "name": "stdout",
          "text": [
            "training Model for 10 Epochs, with 1280 Labeled Data , Trial NO. 9\n"
          ]
        },
        {
          "output_type": "stream",
          "name": "stderr",
          "text": [
            "Predicting with MC Dropout Ensembles: 100%|██████████| 69/69 [00:12<00:00,  5.51it/s]\n"
          ]
        },
        {
          "output_type": "stream",
          "name": "stdout",
          "text": [
            " Training acc : 55.3 % | Test acc : 69.8 %\n"
          ]
        }
      ]
    },
    {
      "cell_type": "code",
      "source": [
        "\n",
        "import pickle\n",
        "\n",
        "# Data to save\n",
        "data_to_save = {\n",
        "\n",
        "    \"margin_TRAIN_ACCURACIES\": margin_TRAIN_ACCURACIES,\n",
        "    \"margin_TEST_ACCURACIES\": margin_TEST_ACCURACIES\n",
        "}\n",
        "\n",
        "# Save to pickle file\n",
        "with open(\"margin_accuracies.pkl\", \"wb\") as file:\n",
        "    pickle.dump(data_to_save, file)\n",
        "\n",
        "print(\"Data saved to margin_accuracies.pkl\")\n"
      ],
      "metadata": {
        "colab": {
          "base_uri": "https://localhost:8080/"
        },
        "id": "4OkGiIKcLSjc",
        "outputId": "3c02efb5-bfd8-4c5e-c994-0d6181f648dc"
      },
      "execution_count": null,
      "outputs": [
        {
          "output_type": "stream",
          "name": "stdout",
          "text": [
            "Data saved to margin_accuracies.pkl\n"
          ]
        }
      ]
    },
    {
      "cell_type": "markdown",
      "source": [
        "### Bald Sampling\n"
      ],
      "metadata": {
        "id": "Mw6kH7Ka7BJB"
      }
    },
    {
      "cell_type": "code",
      "source": [
        "unlabeled_pool = [train_idx[labels == c] for c in range(10)]\n",
        "\n",
        "#  Trianning by increasing data points\n",
        "labeled_per_class = [1,2, 4, 8, 16, 32 , 64 , 128]\n",
        "\n",
        "# get the 20 data points\n",
        "initial_subset = select_k(1)\n",
        "# initialized labeled data\n",
        "labeled_pool =  initial_subset\n",
        "Bald_TRAIN_ACCURACIES = []\n",
        "Bald_TEST_ACCURACIES = []\n",
        "\n",
        "for samples in labeled_per_class :\n",
        "  seed = 42 + len(labeled_pool)\n",
        "\n",
        "  train_trial_result = [];  test_trial_result = []\n",
        "  epochs = get_epoch(labeled_pool)\n",
        "\n",
        "  for trial in range(10):\n",
        "    np.random.seed(seed) ;  torch.manual_seed(seed)\n",
        "\n",
        "    model, optimizer = create_model_optimizer(seed+trial)\n",
        "    #  get accuracies\n",
        "    model, train_acc = train_labeled(model,optimizer, labeled_pool , full_train_dataset, epochs, trial)\n",
        "    test_accuracy     =  eval_model(model , test_loader_dirty_mnist)\n",
        "    # track metrics\n",
        "    train_trial_result.append(train_acc)\n",
        "    test_trial_result.append(test_accuracy)\n",
        "  Bald_TRAIN_ACCURACIES.append((len(labeled_pool) ,train_trial_result ))\n",
        "  Bald_TEST_ACCURACIES.append((len(labeled_pool),test_trial_result))\n",
        "\n",
        "# select one sampel for each class, total k = 10\n",
        "\n",
        "\n",
        "  # update the labeled indices\n",
        "  labeled_pool,unlabeled_pool=  Bald_sampling(model,labeled_pool, unlabeled_pool, full_train_dataset, samples )\n",
        "\n",
        "\n",
        "  print(f\" Training acc : {train_acc:.1f} % | Test acc : {test_accuracy:.1f} %\" )"
      ],
      "metadata": {
        "colab": {
          "base_uri": "https://localhost:8080/"
        },
        "id": "PJV2K9AKomy2",
        "outputId": "f4a47163-cb5d-4dda-c422-6bbf3620cfaf",
        "collapsed": true
      },
      "execution_count": null,
      "outputs": [
        {
          "output_type": "stream",
          "name": "stdout",
          "text": [
            "training Model for 200 Epochs, with 10 Labeled Data , Trial NO. 0\n"
          ]
        },
        {
          "output_type": "stream",
          "name": "stderr",
          "text": [
            "Predicting with MC Dropout Ensembles: 100%|██████████| 69/69 [00:12<00:00,  5.43it/s]\n"
          ]
        },
        {
          "output_type": "stream",
          "name": "stdout",
          "text": [
            "training Model for 200 Epochs, with 10 Labeled Data , Trial NO. 1\n"
          ]
        },
        {
          "output_type": "stream",
          "name": "stderr",
          "text": [
            "Predicting with MC Dropout Ensembles: 100%|██████████| 69/69 [00:12<00:00,  5.39it/s]\n"
          ]
        },
        {
          "output_type": "stream",
          "name": "stdout",
          "text": [
            "training Model for 200 Epochs, with 10 Labeled Data , Trial NO. 2\n"
          ]
        },
        {
          "output_type": "stream",
          "name": "stderr",
          "text": [
            "Predicting with MC Dropout Ensembles: 100%|██████████| 69/69 [00:12<00:00,  5.47it/s]\n"
          ]
        },
        {
          "output_type": "stream",
          "name": "stdout",
          "text": [
            "training Model for 200 Epochs, with 10 Labeled Data , Trial NO. 3\n"
          ]
        },
        {
          "output_type": "stream",
          "name": "stderr",
          "text": [
            "Predicting with MC Dropout Ensembles: 100%|██████████| 69/69 [00:12<00:00,  5.52it/s]\n"
          ]
        },
        {
          "output_type": "stream",
          "name": "stdout",
          "text": [
            "training Model for 200 Epochs, with 10 Labeled Data , Trial NO. 4\n"
          ]
        },
        {
          "output_type": "stream",
          "name": "stderr",
          "text": [
            "Predicting with MC Dropout Ensembles: 100%|██████████| 69/69 [00:12<00:00,  5.53it/s]\n"
          ]
        },
        {
          "output_type": "stream",
          "name": "stdout",
          "text": [
            "training Model for 200 Epochs, with 10 Labeled Data , Trial NO. 5\n"
          ]
        },
        {
          "output_type": "stream",
          "name": "stderr",
          "text": [
            "Predicting with MC Dropout Ensembles: 100%|██████████| 69/69 [00:12<00:00,  5.52it/s]\n"
          ]
        },
        {
          "output_type": "stream",
          "name": "stdout",
          "text": [
            "training Model for 200 Epochs, with 10 Labeled Data , Trial NO. 6\n"
          ]
        },
        {
          "output_type": "stream",
          "name": "stderr",
          "text": [
            "Predicting with MC Dropout Ensembles: 100%|██████████| 69/69 [00:12<00:00,  5.49it/s]\n"
          ]
        },
        {
          "output_type": "stream",
          "name": "stdout",
          "text": [
            "training Model for 200 Epochs, with 10 Labeled Data , Trial NO. 7\n"
          ]
        },
        {
          "output_type": "stream",
          "name": "stderr",
          "text": [
            "Predicting with MC Dropout Ensembles: 100%|██████████| 69/69 [00:12<00:00,  5.47it/s]\n"
          ]
        },
        {
          "output_type": "stream",
          "name": "stdout",
          "text": [
            "training Model for 200 Epochs, with 10 Labeled Data , Trial NO. 8\n"
          ]
        },
        {
          "output_type": "stream",
          "name": "stderr",
          "text": [
            "Predicting with MC Dropout Ensembles: 100%|██████████| 69/69 [00:12<00:00,  5.48it/s]\n"
          ]
        },
        {
          "output_type": "stream",
          "name": "stdout",
          "text": [
            "training Model for 200 Epochs, with 10 Labeled Data , Trial NO. 9\n"
          ]
        },
        {
          "output_type": "stream",
          "name": "stderr",
          "text": [
            "Predicting with MC Dropout Ensembles: 100%|██████████| 69/69 [00:12<00:00,  5.50it/s]\n",
            "Predicting with MC Dropout Ensembles: 100%|██████████| 9/9 [00:01<00:00,  6.26it/s]\n",
            "Predicting with MC Dropout Ensembles: 100%|██████████| 14/14 [00:02<00:00,  5.93it/s]\n",
            "Predicting with MC Dropout Ensembles: 100%|██████████| 11/11 [00:01<00:00,  6.12it/s]\n",
            "Predicting with MC Dropout Ensembles: 100%|██████████| 14/14 [00:02<00:00,  5.96it/s]\n",
            "Predicting with MC Dropout Ensembles: 100%|██████████| 10/10 [00:01<00:00,  6.21it/s]\n",
            "Predicting with MC Dropout Ensembles: 100%|██████████| 10/10 [00:01<00:00,  6.19it/s]\n",
            "Predicting with MC Dropout Ensembles: 100%|██████████| 10/10 [00:01<00:00,  6.18it/s]\n",
            "Predicting with MC Dropout Ensembles: 100%|██████████| 14/14 [00:02<00:00,  5.94it/s]\n",
            "Predicting with MC Dropout Ensembles: 100%|██████████| 15/15 [00:02<00:00,  5.89it/s]\n",
            "Predicting with MC Dropout Ensembles: 100%|██████████| 17/17 [00:02<00:00,  5.84it/s]\n"
          ]
        },
        {
          "output_type": "stream",
          "name": "stdout",
          "text": [
            " Training acc : 100.0 % | Test acc : 34.7 %\n",
            "training Model for 200 Epochs, with 20 Labeled Data , Trial NO. 0\n"
          ]
        },
        {
          "output_type": "stream",
          "name": "stderr",
          "text": [
            "Predicting with MC Dropout Ensembles: 100%|██████████| 69/69 [00:12<00:00,  5.51it/s]\n"
          ]
        },
        {
          "output_type": "stream",
          "name": "stdout",
          "text": [
            "training Model for 200 Epochs, with 20 Labeled Data , Trial NO. 1\n"
          ]
        },
        {
          "output_type": "stream",
          "name": "stderr",
          "text": [
            "Predicting with MC Dropout Ensembles: 100%|██████████| 69/69 [00:12<00:00,  5.50it/s]\n"
          ]
        },
        {
          "output_type": "stream",
          "name": "stdout",
          "text": [
            "training Model for 200 Epochs, with 20 Labeled Data , Trial NO. 2\n"
          ]
        },
        {
          "output_type": "stream",
          "name": "stderr",
          "text": [
            "Predicting with MC Dropout Ensembles: 100%|██████████| 69/69 [00:12<00:00,  5.50it/s]\n"
          ]
        },
        {
          "output_type": "stream",
          "name": "stdout",
          "text": [
            "training Model for 200 Epochs, with 20 Labeled Data , Trial NO. 3\n"
          ]
        },
        {
          "output_type": "stream",
          "name": "stderr",
          "text": [
            "Predicting with MC Dropout Ensembles: 100%|██████████| 69/69 [00:12<00:00,  5.49it/s]\n"
          ]
        },
        {
          "output_type": "stream",
          "name": "stdout",
          "text": [
            "training Model for 200 Epochs, with 20 Labeled Data , Trial NO. 4\n"
          ]
        },
        {
          "output_type": "stream",
          "name": "stderr",
          "text": [
            "Predicting with MC Dropout Ensembles: 100%|██████████| 69/69 [00:12<00:00,  5.49it/s]\n"
          ]
        },
        {
          "output_type": "stream",
          "name": "stdout",
          "text": [
            "training Model for 200 Epochs, with 20 Labeled Data , Trial NO. 5\n"
          ]
        },
        {
          "output_type": "stream",
          "name": "stderr",
          "text": [
            "Predicting with MC Dropout Ensembles: 100%|██████████| 69/69 [00:12<00:00,  5.49it/s]\n"
          ]
        },
        {
          "output_type": "stream",
          "name": "stdout",
          "text": [
            "training Model for 200 Epochs, with 20 Labeled Data , Trial NO. 6\n"
          ]
        },
        {
          "output_type": "stream",
          "name": "stderr",
          "text": [
            "Predicting with MC Dropout Ensembles: 100%|██████████| 69/69 [00:12<00:00,  5.49it/s]\n"
          ]
        },
        {
          "output_type": "stream",
          "name": "stdout",
          "text": [
            "training Model for 200 Epochs, with 20 Labeled Data , Trial NO. 7\n"
          ]
        },
        {
          "output_type": "stream",
          "name": "stderr",
          "text": [
            "Predicting with MC Dropout Ensembles: 100%|██████████| 69/69 [00:12<00:00,  5.49it/s]\n"
          ]
        },
        {
          "output_type": "stream",
          "name": "stdout",
          "text": [
            "training Model for 200 Epochs, with 20 Labeled Data , Trial NO. 8\n"
          ]
        },
        {
          "output_type": "stream",
          "name": "stderr",
          "text": [
            "Predicting with MC Dropout Ensembles: 100%|██████████| 69/69 [00:12<00:00,  5.50it/s]\n"
          ]
        },
        {
          "output_type": "stream",
          "name": "stdout",
          "text": [
            "training Model for 200 Epochs, with 20 Labeled Data , Trial NO. 9\n"
          ]
        },
        {
          "output_type": "stream",
          "name": "stderr",
          "text": [
            "Predicting with MC Dropout Ensembles: 100%|██████████| 69/69 [00:12<00:00,  5.50it/s]\n",
            "Predicting with MC Dropout Ensembles: 100%|██████████| 9/9 [00:01<00:00,  6.23it/s]\n",
            "Predicting with MC Dropout Ensembles: 100%|██████████| 14/14 [00:02<00:00,  5.94it/s]\n",
            "Predicting with MC Dropout Ensembles: 100%|██████████| 11/11 [00:01<00:00,  6.10it/s]\n",
            "Predicting with MC Dropout Ensembles: 100%|██████████| 14/14 [00:02<00:00,  5.95it/s]\n",
            "Predicting with MC Dropout Ensembles: 100%|██████████| 10/10 [00:01<00:00,  6.17it/s]\n",
            "Predicting with MC Dropout Ensembles: 100%|██████████| 10/10 [00:01<00:00,  6.16it/s]\n",
            "Predicting with MC Dropout Ensembles: 100%|██████████| 10/10 [00:01<00:00,  6.17it/s]\n",
            "Predicting with MC Dropout Ensembles: 100%|██████████| 14/14 [00:02<00:00,  5.92it/s]\n",
            "Predicting with MC Dropout Ensembles: 100%|██████████| 15/15 [00:02<00:00,  5.89it/s]\n",
            "Predicting with MC Dropout Ensembles: 100%|██████████| 17/17 [00:02<00:00,  5.82it/s]\n"
          ]
        },
        {
          "output_type": "stream",
          "name": "stdout",
          "text": [
            " Training acc : 100.0 % | Test acc : 39.2 %\n",
            "training Model for 200 Epochs, with 40 Labeled Data , Trial NO. 0\n"
          ]
        },
        {
          "output_type": "stream",
          "name": "stderr",
          "text": [
            "Predicting with MC Dropout Ensembles: 100%|██████████| 69/69 [00:12<00:00,  5.49it/s]\n"
          ]
        },
        {
          "output_type": "stream",
          "name": "stdout",
          "text": [
            "training Model for 200 Epochs, with 40 Labeled Data , Trial NO. 1\n"
          ]
        },
        {
          "output_type": "stream",
          "name": "stderr",
          "text": [
            "Predicting with MC Dropout Ensembles: 100%|██████████| 69/69 [00:12<00:00,  5.49it/s]\n"
          ]
        },
        {
          "output_type": "stream",
          "name": "stdout",
          "text": [
            "training Model for 200 Epochs, with 40 Labeled Data , Trial NO. 2\n"
          ]
        },
        {
          "output_type": "stream",
          "name": "stderr",
          "text": [
            "Predicting with MC Dropout Ensembles: 100%|██████████| 69/69 [00:12<00:00,  5.50it/s]\n"
          ]
        },
        {
          "output_type": "stream",
          "name": "stdout",
          "text": [
            "training Model for 200 Epochs, with 40 Labeled Data , Trial NO. 3\n"
          ]
        },
        {
          "output_type": "stream",
          "name": "stderr",
          "text": [
            "Predicting with MC Dropout Ensembles: 100%|██████████| 69/69 [00:12<00:00,  5.50it/s]\n"
          ]
        },
        {
          "output_type": "stream",
          "name": "stdout",
          "text": [
            "training Model for 200 Epochs, with 40 Labeled Data , Trial NO. 4\n"
          ]
        },
        {
          "output_type": "stream",
          "name": "stderr",
          "text": [
            "Predicting with MC Dropout Ensembles: 100%|██████████| 69/69 [00:12<00:00,  5.49it/s]\n"
          ]
        },
        {
          "output_type": "stream",
          "name": "stdout",
          "text": [
            "training Model for 200 Epochs, with 40 Labeled Data , Trial NO. 5\n"
          ]
        },
        {
          "output_type": "stream",
          "name": "stderr",
          "text": [
            "Predicting with MC Dropout Ensembles: 100%|██████████| 69/69 [00:12<00:00,  5.49it/s]\n"
          ]
        },
        {
          "output_type": "stream",
          "name": "stdout",
          "text": [
            "training Model for 200 Epochs, with 40 Labeled Data , Trial NO. 6\n"
          ]
        },
        {
          "output_type": "stream",
          "name": "stderr",
          "text": [
            "Predicting with MC Dropout Ensembles: 100%|██████████| 69/69 [00:12<00:00,  5.49it/s]\n"
          ]
        },
        {
          "output_type": "stream",
          "name": "stdout",
          "text": [
            "training Model for 200 Epochs, with 40 Labeled Data , Trial NO. 7\n"
          ]
        },
        {
          "output_type": "stream",
          "name": "stderr",
          "text": [
            "Predicting with MC Dropout Ensembles: 100%|██████████| 69/69 [00:12<00:00,  5.51it/s]\n"
          ]
        },
        {
          "output_type": "stream",
          "name": "stdout",
          "text": [
            "training Model for 200 Epochs, with 40 Labeled Data , Trial NO. 8\n"
          ]
        },
        {
          "output_type": "stream",
          "name": "stderr",
          "text": [
            "Predicting with MC Dropout Ensembles: 100%|██████████| 69/69 [00:12<00:00,  5.51it/s]\n"
          ]
        },
        {
          "output_type": "stream",
          "name": "stdout",
          "text": [
            "training Model for 200 Epochs, with 40 Labeled Data , Trial NO. 9\n"
          ]
        },
        {
          "output_type": "stream",
          "name": "stderr",
          "text": [
            "Predicting with MC Dropout Ensembles: 100%|██████████| 69/69 [00:12<00:00,  5.50it/s]\n",
            "Predicting with MC Dropout Ensembles: 100%|██████████| 9/9 [00:01<00:00,  6.26it/s]\n",
            "Predicting with MC Dropout Ensembles: 100%|██████████| 14/14 [00:02<00:00,  5.92it/s]\n",
            "Predicting with MC Dropout Ensembles: 100%|██████████| 11/11 [00:01<00:00,  6.09it/s]\n",
            "Predicting with MC Dropout Ensembles: 100%|██████████| 14/14 [00:02<00:00,  5.95it/s]\n",
            "Predicting with MC Dropout Ensembles: 100%|██████████| 10/10 [00:01<00:00,  6.17it/s]\n",
            "Predicting with MC Dropout Ensembles: 100%|██████████| 10/10 [00:01<00:00,  6.17it/s]\n",
            "Predicting with MC Dropout Ensembles: 100%|██████████| 10/10 [00:01<00:00,  6.16it/s]\n",
            "Predicting with MC Dropout Ensembles: 100%|██████████| 14/14 [00:02<00:00,  5.92it/s]\n",
            "Predicting with MC Dropout Ensembles: 100%|██████████| 15/15 [00:02<00:00,  5.87it/s]\n",
            "Predicting with MC Dropout Ensembles: 100%|██████████| 17/17 [00:02<00:00,  5.82it/s]\n"
          ]
        },
        {
          "output_type": "stream",
          "name": "stdout",
          "text": [
            " Training acc : 95.0 % | Test acc : 42.3 %\n",
            "training Model for 200 Epochs, with 80 Labeled Data , Trial NO. 0\n"
          ]
        },
        {
          "output_type": "stream",
          "name": "stderr",
          "text": [
            "Predicting with MC Dropout Ensembles: 100%|██████████| 69/69 [00:12<00:00,  5.50it/s]\n"
          ]
        },
        {
          "output_type": "stream",
          "name": "stdout",
          "text": [
            "training Model for 200 Epochs, with 80 Labeled Data , Trial NO. 1\n"
          ]
        },
        {
          "output_type": "stream",
          "name": "stderr",
          "text": [
            "Predicting with MC Dropout Ensembles: 100%|██████████| 69/69 [00:12<00:00,  5.51it/s]\n"
          ]
        },
        {
          "output_type": "stream",
          "name": "stdout",
          "text": [
            "training Model for 200 Epochs, with 80 Labeled Data , Trial NO. 2\n"
          ]
        },
        {
          "output_type": "stream",
          "name": "stderr",
          "text": [
            "Predicting with MC Dropout Ensembles: 100%|██████████| 69/69 [00:12<00:00,  5.51it/s]\n"
          ]
        },
        {
          "output_type": "stream",
          "name": "stdout",
          "text": [
            "training Model for 200 Epochs, with 80 Labeled Data , Trial NO. 3\n"
          ]
        },
        {
          "output_type": "stream",
          "name": "stderr",
          "text": [
            "Predicting with MC Dropout Ensembles: 100%|██████████| 69/69 [00:12<00:00,  5.50it/s]\n"
          ]
        },
        {
          "output_type": "stream",
          "name": "stdout",
          "text": [
            "training Model for 200 Epochs, with 80 Labeled Data , Trial NO. 4\n"
          ]
        },
        {
          "output_type": "stream",
          "name": "stderr",
          "text": [
            "Predicting with MC Dropout Ensembles: 100%|██████████| 69/69 [00:12<00:00,  5.49it/s]\n"
          ]
        },
        {
          "output_type": "stream",
          "name": "stdout",
          "text": [
            "training Model for 200 Epochs, with 80 Labeled Data , Trial NO. 5\n"
          ]
        },
        {
          "output_type": "stream",
          "name": "stderr",
          "text": [
            "Predicting with MC Dropout Ensembles: 100%|██████████| 69/69 [00:12<00:00,  5.49it/s]\n"
          ]
        },
        {
          "output_type": "stream",
          "name": "stdout",
          "text": [
            "training Model for 200 Epochs, with 80 Labeled Data , Trial NO. 6\n"
          ]
        },
        {
          "output_type": "stream",
          "name": "stderr",
          "text": [
            "Predicting with MC Dropout Ensembles: 100%|██████████| 69/69 [00:12<00:00,  5.50it/s]\n"
          ]
        },
        {
          "output_type": "stream",
          "name": "stdout",
          "text": [
            "training Model for 200 Epochs, with 80 Labeled Data , Trial NO. 7\n"
          ]
        },
        {
          "output_type": "stream",
          "name": "stderr",
          "text": [
            "Predicting with MC Dropout Ensembles: 100%|██████████| 69/69 [00:12<00:00,  5.50it/s]\n"
          ]
        },
        {
          "output_type": "stream",
          "name": "stdout",
          "text": [
            "training Model for 200 Epochs, with 80 Labeled Data , Trial NO. 8\n"
          ]
        },
        {
          "output_type": "stream",
          "name": "stderr",
          "text": [
            "Predicting with MC Dropout Ensembles: 100%|██████████| 69/69 [00:12<00:00,  5.49it/s]\n"
          ]
        },
        {
          "output_type": "stream",
          "name": "stdout",
          "text": [
            "training Model for 200 Epochs, with 80 Labeled Data , Trial NO. 9\n"
          ]
        },
        {
          "output_type": "stream",
          "name": "stderr",
          "text": [
            "Predicting with MC Dropout Ensembles: 100%|██████████| 69/69 [00:12<00:00,  5.49it/s]\n",
            "Predicting with MC Dropout Ensembles: 100%|██████████| 9/9 [00:01<00:00,  6.21it/s]\n",
            "Predicting with MC Dropout Ensembles: 100%|██████████| 14/14 [00:02<00:00,  5.91it/s]\n",
            "Predicting with MC Dropout Ensembles: 100%|██████████| 11/11 [00:01<00:00,  6.09it/s]\n",
            "Predicting with MC Dropout Ensembles: 100%|██████████| 14/14 [00:02<00:00,  5.95it/s]\n",
            "Predicting with MC Dropout Ensembles: 100%|██████████| 10/10 [00:01<00:00,  6.15it/s]\n",
            "Predicting with MC Dropout Ensembles: 100%|██████████| 10/10 [00:01<00:00,  6.14it/s]\n",
            "Predicting with MC Dropout Ensembles: 100%|██████████| 10/10 [00:01<00:00,  6.13it/s]\n",
            "Predicting with MC Dropout Ensembles: 100%|██████████| 14/14 [00:02<00:00,  5.91it/s]\n",
            "Predicting with MC Dropout Ensembles: 100%|██████████| 15/15 [00:02<00:00,  5.88it/s]\n",
            "Predicting with MC Dropout Ensembles: 100%|██████████| 17/17 [00:02<00:00,  5.82it/s]\n"
          ]
        },
        {
          "output_type": "stream",
          "name": "stdout",
          "text": [
            " Training acc : 100.0 % | Test acc : 42.5 %\n",
            "training Model for 100 Epochs, with 160 Labeled Data , Trial NO. 0\n"
          ]
        },
        {
          "output_type": "stream",
          "name": "stderr",
          "text": [
            "Predicting with MC Dropout Ensembles: 100%|██████████| 69/69 [00:12<00:00,  5.50it/s]\n"
          ]
        },
        {
          "output_type": "stream",
          "name": "stdout",
          "text": [
            "training Model for 100 Epochs, with 160 Labeled Data , Trial NO. 1\n"
          ]
        },
        {
          "output_type": "stream",
          "name": "stderr",
          "text": [
            "Predicting with MC Dropout Ensembles: 100%|██████████| 69/69 [00:12<00:00,  5.51it/s]\n"
          ]
        },
        {
          "output_type": "stream",
          "name": "stdout",
          "text": [
            "training Model for 100 Epochs, with 160 Labeled Data , Trial NO. 2\n"
          ]
        },
        {
          "output_type": "stream",
          "name": "stderr",
          "text": [
            "Predicting with MC Dropout Ensembles: 100%|██████████| 69/69 [00:12<00:00,  5.51it/s]\n"
          ]
        },
        {
          "output_type": "stream",
          "name": "stdout",
          "text": [
            "training Model for 100 Epochs, with 160 Labeled Data , Trial NO. 3\n"
          ]
        },
        {
          "output_type": "stream",
          "name": "stderr",
          "text": [
            "Predicting with MC Dropout Ensembles: 100%|██████████| 69/69 [00:12<00:00,  5.49it/s]\n"
          ]
        },
        {
          "output_type": "stream",
          "name": "stdout",
          "text": [
            "training Model for 100 Epochs, with 160 Labeled Data , Trial NO. 4\n"
          ]
        },
        {
          "output_type": "stream",
          "name": "stderr",
          "text": [
            "Predicting with MC Dropout Ensembles: 100%|██████████| 69/69 [00:12<00:00,  5.49it/s]\n"
          ]
        },
        {
          "output_type": "stream",
          "name": "stdout",
          "text": [
            "training Model for 100 Epochs, with 160 Labeled Data , Trial NO. 5\n"
          ]
        },
        {
          "output_type": "stream",
          "name": "stderr",
          "text": [
            "Predicting with MC Dropout Ensembles: 100%|██████████| 69/69 [00:12<00:00,  5.50it/s]\n"
          ]
        },
        {
          "output_type": "stream",
          "name": "stdout",
          "text": [
            "training Model for 100 Epochs, with 160 Labeled Data , Trial NO. 6\n"
          ]
        },
        {
          "output_type": "stream",
          "name": "stderr",
          "text": [
            "Predicting with MC Dropout Ensembles: 100%|██████████| 69/69 [00:12<00:00,  5.50it/s]\n"
          ]
        },
        {
          "output_type": "stream",
          "name": "stdout",
          "text": [
            "training Model for 100 Epochs, with 160 Labeled Data , Trial NO. 7\n"
          ]
        },
        {
          "output_type": "stream",
          "name": "stderr",
          "text": [
            "Predicting with MC Dropout Ensembles: 100%|██████████| 69/69 [00:12<00:00,  5.50it/s]\n"
          ]
        },
        {
          "output_type": "stream",
          "name": "stdout",
          "text": [
            "training Model for 100 Epochs, with 160 Labeled Data , Trial NO. 8\n"
          ]
        },
        {
          "output_type": "stream",
          "name": "stderr",
          "text": [
            "Predicting with MC Dropout Ensembles: 100%|██████████| 69/69 [00:12<00:00,  5.50it/s]\n"
          ]
        },
        {
          "output_type": "stream",
          "name": "stdout",
          "text": [
            "training Model for 100 Epochs, with 160 Labeled Data , Trial NO. 9\n"
          ]
        },
        {
          "output_type": "stream",
          "name": "stderr",
          "text": [
            "Predicting with MC Dropout Ensembles: 100%|██████████| 69/69 [00:12<00:00,  5.49it/s]\n",
            "Predicting with MC Dropout Ensembles: 100%|██████████| 9/9 [00:01<00:00,  6.24it/s]\n",
            "Predicting with MC Dropout Ensembles: 100%|██████████| 14/14 [00:02<00:00,  5.92it/s]\n",
            "Predicting with MC Dropout Ensembles: 100%|██████████| 11/11 [00:01<00:00,  6.15it/s]\n",
            "Predicting with MC Dropout Ensembles: 100%|██████████| 13/13 [00:02<00:00,  5.96it/s]\n",
            "Predicting with MC Dropout Ensembles: 100%|██████████| 10/10 [00:01<00:00,  6.17it/s]\n",
            "Predicting with MC Dropout Ensembles: 100%|██████████| 10/10 [00:01<00:00,  6.16it/s]\n",
            "Predicting with MC Dropout Ensembles: 100%|██████████| 10/10 [00:01<00:00,  6.11it/s]\n",
            "Predicting with MC Dropout Ensembles: 100%|██████████| 14/14 [00:02<00:00,  5.90it/s]\n",
            "Predicting with MC Dropout Ensembles: 100%|██████████| 15/15 [00:02<00:00,  5.88it/s]\n",
            "Predicting with MC Dropout Ensembles: 100%|██████████| 17/17 [00:02<00:00,  5.82it/s]\n"
          ]
        },
        {
          "output_type": "stream",
          "name": "stdout",
          "text": [
            " Training acc : 98.8 % | Test acc : 43.5 %\n",
            "training Model for 100 Epochs, with 320 Labeled Data , Trial NO. 0\n"
          ]
        },
        {
          "output_type": "stream",
          "name": "stderr",
          "text": [
            "Predicting with MC Dropout Ensembles: 100%|██████████| 69/69 [00:12<00:00,  5.50it/s]\n"
          ]
        },
        {
          "output_type": "stream",
          "name": "stdout",
          "text": [
            "training Model for 100 Epochs, with 320 Labeled Data , Trial NO. 1\n"
          ]
        },
        {
          "output_type": "stream",
          "name": "stderr",
          "text": [
            "Predicting with MC Dropout Ensembles: 100%|██████████| 69/69 [00:12<00:00,  5.51it/s]\n"
          ]
        },
        {
          "output_type": "stream",
          "name": "stdout",
          "text": [
            "training Model for 100 Epochs, with 320 Labeled Data , Trial NO. 2\n"
          ]
        },
        {
          "output_type": "stream",
          "name": "stderr",
          "text": [
            "Predicting with MC Dropout Ensembles: 100%|██████████| 69/69 [00:12<00:00,  5.50it/s]\n"
          ]
        },
        {
          "output_type": "stream",
          "name": "stdout",
          "text": [
            "training Model for 100 Epochs, with 320 Labeled Data , Trial NO. 3\n"
          ]
        },
        {
          "output_type": "stream",
          "name": "stderr",
          "text": [
            "Predicting with MC Dropout Ensembles: 100%|██████████| 69/69 [00:12<00:00,  5.48it/s]\n"
          ]
        },
        {
          "output_type": "stream",
          "name": "stdout",
          "text": [
            "training Model for 100 Epochs, with 320 Labeled Data , Trial NO. 4\n"
          ]
        },
        {
          "output_type": "stream",
          "name": "stderr",
          "text": [
            "Predicting with MC Dropout Ensembles: 100%|██████████| 69/69 [00:12<00:00,  5.49it/s]\n"
          ]
        },
        {
          "output_type": "stream",
          "name": "stdout",
          "text": [
            "training Model for 100 Epochs, with 320 Labeled Data , Trial NO. 5\n"
          ]
        },
        {
          "output_type": "stream",
          "name": "stderr",
          "text": [
            "Predicting with MC Dropout Ensembles: 100%|██████████| 69/69 [00:12<00:00,  5.50it/s]\n"
          ]
        },
        {
          "output_type": "stream",
          "name": "stdout",
          "text": [
            "training Model for 100 Epochs, with 320 Labeled Data , Trial NO. 6\n"
          ]
        },
        {
          "output_type": "stream",
          "name": "stderr",
          "text": [
            "Predicting with MC Dropout Ensembles: 100%|██████████| 69/69 [00:12<00:00,  5.50it/s]\n"
          ]
        },
        {
          "output_type": "stream",
          "name": "stdout",
          "text": [
            "training Model for 100 Epochs, with 320 Labeled Data , Trial NO. 7\n"
          ]
        },
        {
          "output_type": "stream",
          "name": "stderr",
          "text": [
            "Predicting with MC Dropout Ensembles: 100%|██████████| 69/69 [00:12<00:00,  5.50it/s]\n"
          ]
        },
        {
          "output_type": "stream",
          "name": "stdout",
          "text": [
            "training Model for 100 Epochs, with 320 Labeled Data , Trial NO. 8\n"
          ]
        },
        {
          "output_type": "stream",
          "name": "stderr",
          "text": [
            "Predicting with MC Dropout Ensembles: 100%|██████████| 69/69 [00:12<00:00,  5.50it/s]\n"
          ]
        },
        {
          "output_type": "stream",
          "name": "stdout",
          "text": [
            "training Model for 100 Epochs, with 320 Labeled Data , Trial NO. 9\n"
          ]
        },
        {
          "output_type": "stream",
          "name": "stderr",
          "text": [
            "Predicting with MC Dropout Ensembles: 100%|██████████| 69/69 [00:12<00:00,  5.49it/s]\n",
            "Predicting with MC Dropout Ensembles: 100%|██████████| 9/9 [00:01<00:00,  5.99it/s]\n",
            "Predicting with MC Dropout Ensembles: 100%|██████████| 14/14 [00:02<00:00,  5.89it/s]\n",
            "Predicting with MC Dropout Ensembles: 100%|██████████| 11/11 [00:01<00:00,  5.95it/s]\n",
            "Predicting with MC Dropout Ensembles: 100%|██████████| 13/13 [00:02<00:00,  5.91it/s]\n",
            "Predicting with MC Dropout Ensembles: 100%|██████████| 10/10 [00:01<00:00,  6.13it/s]\n",
            "Predicting with MC Dropout Ensembles: 100%|██████████| 10/10 [00:01<00:00,  6.13it/s]\n",
            "Predicting with MC Dropout Ensembles: 100%|██████████| 10/10 [00:01<00:00,  6.13it/s]\n",
            "Predicting with MC Dropout Ensembles: 100%|██████████| 14/14 [00:02<00:00,  5.88it/s]\n",
            "Predicting with MC Dropout Ensembles: 100%|██████████| 15/15 [00:02<00:00,  5.84it/s]\n",
            "Predicting with MC Dropout Ensembles: 100%|██████████| 17/17 [00:02<00:00,  5.80it/s]\n"
          ]
        },
        {
          "output_type": "stream",
          "name": "stdout",
          "text": [
            " Training acc : 99.7 % | Test acc : 44.0 %\n",
            "training Model for 50 Epochs, with 640 Labeled Data , Trial NO. 0\n"
          ]
        },
        {
          "output_type": "stream",
          "name": "stderr",
          "text": [
            "Predicting with MC Dropout Ensembles: 100%|██████████| 69/69 [00:12<00:00,  5.50it/s]\n"
          ]
        },
        {
          "output_type": "stream",
          "name": "stdout",
          "text": [
            "training Model for 50 Epochs, with 640 Labeled Data , Trial NO. 1\n"
          ]
        },
        {
          "output_type": "stream",
          "name": "stderr",
          "text": [
            "Predicting with MC Dropout Ensembles: 100%|██████████| 69/69 [00:12<00:00,  5.51it/s]\n"
          ]
        },
        {
          "output_type": "stream",
          "name": "stdout",
          "text": [
            "training Model for 50 Epochs, with 640 Labeled Data , Trial NO. 2\n"
          ]
        },
        {
          "output_type": "stream",
          "name": "stderr",
          "text": [
            "Predicting with MC Dropout Ensembles: 100%|██████████| 69/69 [00:12<00:00,  5.47it/s]\n"
          ]
        },
        {
          "output_type": "stream",
          "name": "stdout",
          "text": [
            "training Model for 50 Epochs, with 640 Labeled Data , Trial NO. 3\n"
          ]
        },
        {
          "output_type": "stream",
          "name": "stderr",
          "text": [
            "Predicting with MC Dropout Ensembles: 100%|██████████| 69/69 [00:12<00:00,  5.49it/s]\n"
          ]
        },
        {
          "output_type": "stream",
          "name": "stdout",
          "text": [
            "training Model for 50 Epochs, with 640 Labeled Data , Trial NO. 4\n"
          ]
        },
        {
          "output_type": "stream",
          "name": "stderr",
          "text": [
            "Predicting with MC Dropout Ensembles: 100%|██████████| 69/69 [00:12<00:00,  5.48it/s]\n"
          ]
        },
        {
          "output_type": "stream",
          "name": "stdout",
          "text": [
            "training Model for 50 Epochs, with 640 Labeled Data , Trial NO. 5\n"
          ]
        },
        {
          "output_type": "stream",
          "name": "stderr",
          "text": [
            "Predicting with MC Dropout Ensembles: 100%|██████████| 69/69 [00:12<00:00,  5.49it/s]\n"
          ]
        },
        {
          "output_type": "stream",
          "name": "stdout",
          "text": [
            "training Model for 50 Epochs, with 640 Labeled Data , Trial NO. 6\n"
          ]
        },
        {
          "output_type": "stream",
          "name": "stderr",
          "text": [
            "Predicting with MC Dropout Ensembles: 100%|██████████| 69/69 [00:12<00:00,  5.51it/s]\n"
          ]
        },
        {
          "output_type": "stream",
          "name": "stdout",
          "text": [
            "training Model for 50 Epochs, with 640 Labeled Data , Trial NO. 7\n"
          ]
        },
        {
          "output_type": "stream",
          "name": "stderr",
          "text": [
            "Predicting with MC Dropout Ensembles: 100%|██████████| 69/69 [00:12<00:00,  5.51it/s]\n"
          ]
        },
        {
          "output_type": "stream",
          "name": "stdout",
          "text": [
            "training Model for 50 Epochs, with 640 Labeled Data , Trial NO. 8\n"
          ]
        },
        {
          "output_type": "stream",
          "name": "stderr",
          "text": [
            "Predicting with MC Dropout Ensembles: 100%|██████████| 69/69 [00:12<00:00,  5.49it/s]\n"
          ]
        },
        {
          "output_type": "stream",
          "name": "stdout",
          "text": [
            "training Model for 50 Epochs, with 640 Labeled Data , Trial NO. 9\n"
          ]
        },
        {
          "output_type": "stream",
          "name": "stderr",
          "text": [
            "Predicting with MC Dropout Ensembles: 100%|██████████| 69/69 [00:12<00:00,  5.49it/s]\n",
            "Predicting with MC Dropout Ensembles: 100%|██████████| 9/9 [00:01<00:00,  6.23it/s]\n",
            "Predicting with MC Dropout Ensembles: 100%|██████████| 14/14 [00:02<00:00,  5.93it/s]\n",
            "Predicting with MC Dropout Ensembles: 100%|██████████| 10/10 [00:01<00:00,  6.16it/s]\n",
            "Predicting with MC Dropout Ensembles: 100%|██████████| 13/13 [00:02<00:00,  5.96it/s]\n",
            "Predicting with MC Dropout Ensembles: 100%|██████████| 10/10 [00:01<00:00,  6.16it/s]\n",
            "Predicting with MC Dropout Ensembles: 100%|██████████| 10/10 [00:01<00:00,  6.16it/s]\n",
            "Predicting with MC Dropout Ensembles: 100%|██████████| 10/10 [00:01<00:00,  5.96it/s]\n",
            "Predicting with MC Dropout Ensembles: 100%|██████████| 14/14 [00:02<00:00,  5.92it/s]\n",
            "Predicting with MC Dropout Ensembles: 100%|██████████| 15/15 [00:02<00:00,  5.91it/s]\n",
            "Predicting with MC Dropout Ensembles: 100%|██████████| 17/17 [00:02<00:00,  5.83it/s]\n"
          ]
        },
        {
          "output_type": "stream",
          "name": "stdout",
          "text": [
            " Training acc : 99.2 % | Test acc : 48.1 %\n",
            "training Model for 10 Epochs, with 1280 Labeled Data , Trial NO. 0\n"
          ]
        },
        {
          "output_type": "stream",
          "name": "stderr",
          "text": [
            "Predicting with MC Dropout Ensembles: 100%|██████████| 69/69 [00:12<00:00,  5.51it/s]\n"
          ]
        },
        {
          "output_type": "stream",
          "name": "stdout",
          "text": [
            "training Model for 10 Epochs, with 1280 Labeled Data , Trial NO. 1\n"
          ]
        },
        {
          "output_type": "stream",
          "name": "stderr",
          "text": [
            "Predicting with MC Dropout Ensembles: 100%|██████████| 69/69 [00:12<00:00,  5.51it/s]\n"
          ]
        },
        {
          "output_type": "stream",
          "name": "stdout",
          "text": [
            "training Model for 10 Epochs, with 1280 Labeled Data , Trial NO. 2\n"
          ]
        },
        {
          "output_type": "stream",
          "name": "stderr",
          "text": [
            "Predicting with MC Dropout Ensembles: 100%|██████████| 69/69 [00:12<00:00,  5.51it/s]\n"
          ]
        },
        {
          "output_type": "stream",
          "name": "stdout",
          "text": [
            "training Model for 10 Epochs, with 1280 Labeled Data , Trial NO. 3\n"
          ]
        },
        {
          "output_type": "stream",
          "name": "stderr",
          "text": [
            "Predicting with MC Dropout Ensembles: 100%|██████████| 69/69 [00:12<00:00,  5.50it/s]\n"
          ]
        },
        {
          "output_type": "stream",
          "name": "stdout",
          "text": [
            "training Model for 10 Epochs, with 1280 Labeled Data , Trial NO. 4\n"
          ]
        },
        {
          "output_type": "stream",
          "name": "stderr",
          "text": [
            "Predicting with MC Dropout Ensembles: 100%|██████████| 69/69 [00:12<00:00,  5.49it/s]\n"
          ]
        },
        {
          "output_type": "stream",
          "name": "stdout",
          "text": [
            "training Model for 10 Epochs, with 1280 Labeled Data , Trial NO. 5\n"
          ]
        },
        {
          "output_type": "stream",
          "name": "stderr",
          "text": [
            "Predicting with MC Dropout Ensembles: 100%|██████████| 69/69 [00:12<00:00,  5.50it/s]\n"
          ]
        },
        {
          "output_type": "stream",
          "name": "stdout",
          "text": [
            "training Model for 10 Epochs, with 1280 Labeled Data , Trial NO. 6\n"
          ]
        },
        {
          "output_type": "stream",
          "name": "stderr",
          "text": [
            "Predicting with MC Dropout Ensembles: 100%|██████████| 69/69 [00:12<00:00,  5.51it/s]\n"
          ]
        },
        {
          "output_type": "stream",
          "name": "stdout",
          "text": [
            "training Model for 10 Epochs, with 1280 Labeled Data , Trial NO. 7\n"
          ]
        },
        {
          "output_type": "stream",
          "name": "stderr",
          "text": [
            "Predicting with MC Dropout Ensembles: 100%|██████████| 69/69 [00:12<00:00,  5.50it/s]\n"
          ]
        },
        {
          "output_type": "stream",
          "name": "stdout",
          "text": [
            "training Model for 10 Epochs, with 1280 Labeled Data , Trial NO. 8\n"
          ]
        },
        {
          "output_type": "stream",
          "name": "stderr",
          "text": [
            "Predicting with MC Dropout Ensembles: 100%|██████████| 69/69 [00:12<00:00,  5.50it/s]\n"
          ]
        },
        {
          "output_type": "stream",
          "name": "stdout",
          "text": [
            "training Model for 10 Epochs, with 1280 Labeled Data , Trial NO. 9\n"
          ]
        },
        {
          "output_type": "stream",
          "name": "stderr",
          "text": [
            "Predicting with MC Dropout Ensembles: 100%|██████████| 69/69 [00:12<00:00,  5.49it/s]\n",
            "Predicting with MC Dropout Ensembles: 100%|██████████| 9/9 [00:01<00:00,  6.26it/s]\n",
            "Predicting with MC Dropout Ensembles: 100%|██████████| 14/14 [00:02<00:00,  5.93it/s]\n",
            "Predicting with MC Dropout Ensembles: 100%|██████████| 10/10 [00:01<00:00,  6.15it/s]\n",
            "Predicting with MC Dropout Ensembles: 100%|██████████| 13/13 [00:02<00:00,  5.96it/s]\n",
            "Predicting with MC Dropout Ensembles: 100%|██████████| 10/10 [00:01<00:00,  6.17it/s]\n",
            "Predicting with MC Dropout Ensembles: 100%|██████████| 10/10 [00:01<00:00,  6.16it/s]\n",
            "Predicting with MC Dropout Ensembles: 100%|██████████| 10/10 [00:01<00:00,  6.15it/s]\n",
            "Predicting with MC Dropout Ensembles: 100%|██████████| 14/14 [00:02<00:00,  5.92it/s]\n",
            "Predicting with MC Dropout Ensembles: 100%|██████████| 15/15 [00:02<00:00,  5.87it/s]\n",
            "Predicting with MC Dropout Ensembles: 100%|██████████| 17/17 [00:02<00:00,  5.82it/s]\n"
          ]
        },
        {
          "output_type": "stream",
          "name": "stdout",
          "text": [
            " Training acc : 98.0 % | Test acc : 48.6 %\n"
          ]
        }
      ]
    },
    {
      "cell_type": "code",
      "source": [
        "# Data to save\n",
        "data_to_save = {\n",
        "    \"bald_TRAIN_ACCURACIES\": Bald_TRAIN_ACCURACIES,\n",
        "    \"bald_TEST_ACCURACIES\": Bald_TEST_ACCURACIES\n",
        "}\n",
        "\n",
        "# Save to pickle file\n",
        "with open(\"bald_accuracies.pkl\", \"wb\") as file:\n",
        "    pickle.dump(data_to_save, file)\n",
        "\n",
        "print(\"Data saved to Bald_accuracies.pkl\")\n"
      ],
      "metadata": {
        "colab": {
          "base_uri": "https://localhost:8080/"
        },
        "id": "WX68llpJLlcP",
        "outputId": "103a117b-b52b-4052-8633-7304e9189396"
      },
      "execution_count": null,
      "outputs": [
        {
          "output_type": "stream",
          "name": "stdout",
          "text": [
            "Data saved to Bald_accuracies.pkl\n"
          ]
        }
      ]
    },
    {
      "cell_type": "code",
      "source": [
        "test_accuracies_dict = {\n",
        "    \"entropy_TEST_ACCURACIES\": entropy_TEST_ACCURACIES,\n",
        "    \"bald_TEST_ACCURACIES\": Bald_TEST_ACCURACIES,\n",
        "    \"margin_TEST_ACCURACIES\": margin_TEST_ACCURACIES\n",
        "\n",
        "}\n",
        "\n",
        "len_data = np.array([int(trial[0]) for trial in entropy_TEST_ACCURACIES])\n",
        "\n",
        "plot_learning_curve_with_ci(test_accuracies_dict, len_data)"
      ],
      "metadata": {
        "colab": {
          "base_uri": "https://localhost:8080/",
          "height": 718
        },
        "id": "iA8Lksb1ZAUv",
        "outputId": "70dc5dde-74d5-4f84-bf02-dd8478e55755"
      },
      "execution_count": null,
      "outputs": [
        {
          "output_type": "display_data",
          "data": {
            "text/plain": [
              "<Figure size 1400x800 with 1 Axes>"
            ],
            "image/png": "[encoded data removed]"
          },
          "metadata": {}
        }
      ]
    },
    {
      "cell_type": "markdown",
      "source": [
        "## Summary\n",
        "\n",
        "The Margine Sampling outperforms both Bald and Entropy aquisition both in results and stability, with the increased no. of labeled examples, entropy slightly outperforms Bald Aquisition."
      ],
      "metadata": {
        "id": "WbYhWTsJdj4Y"
      }
    }
  ]
}